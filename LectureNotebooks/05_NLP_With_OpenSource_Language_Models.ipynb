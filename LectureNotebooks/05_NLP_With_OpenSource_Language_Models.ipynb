{
  "cells": [
    {
      "cell_type": "markdown",
      "metadata": {
        "id": "80YnPM-vhaCm"
      },
      "source": [
        "\n",
        "# Building AI Applications with ChatGPT\n",
        "\n",
        "Sumudu Tennakoon, PhD\n",
        "<hr>\n",
        "\n",
        "# NLP With OpenSource Language Models\n",
        "\n",
        "In this notebook we will explore some basic fetures on Python programing language for those who have a prior programing expereince.\n",
        "\n",
        "To learn more about Python, refeer to the following websites\n",
        "\n",
        "- Python : https://www.python.org\n",
        "\n",
        "To learn more about the Python packages we explore in this notebook, refer to the following websites\n",
        "\n",
        "- HuggingFace : https://huggingface.co\n"
      ]
    },
    {
      "cell_type": "markdown",
      "metadata": {
        "id": "yexZBDVRcHBA"
      },
      "source": [
        "# Getting Started with HuggingFace"
      ]
    },
    {
      "cell_type": "markdown",
      "metadata": {},
      "source": [
        "* Run below code cell to install required libraries before you continue. Ignore that if you already installed them."
      ]
    },
    {
      "cell_type": "code",
      "execution_count": null,
      "metadata": {},
      "outputs": [],
      "source": [
        "!pip install transformers sentencepiece"
      ]
    },
    {
      "cell_type": "markdown",
      "metadata": {},
      "source": [
        "# Sentiment Analysis"
      ]
    },
    {
      "cell_type": "code",
      "execution_count": 1,
      "metadata": {
        "colab": {
          "base_uri": "https://localhost:8080/"
        },
        "id": "_WDu4H38cRuo",
        "outputId": "c2cba806-b513-4b0c-ac50-3af0be4afd3d"
      },
      "outputs": [
        {
          "name": "stderr",
          "output_type": "stream",
          "text": [
            "d:\\TeachingWorkspace\\.venv\\lib\\site-packages\\tqdm\\auto.py:21: TqdmWarning: IProgress not found. Please update jupyter and ipywidgets. See https://ipywidgets.readthedocs.io/en/stable/user_install.html\n",
            "  from .autonotebook import tqdm as notebook_tqdm\n",
            "No model was supplied, defaulted to distilbert-base-uncased-finetuned-sst-2-english and revision af0f99b (https://huggingface.co/distilbert-base-uncased-finetuned-sst-2-english).\n",
            "Using a pipeline without specifying a model name and revision in production is not recommended.\n",
            "Xformers is not installed correctly. If you want to use memory_efficient_attention to accelerate training use the following command to install Xformers\n",
            "pip install xformers.\n"
          ]
        },
        {
          "data": {
            "text/plain": [
              "[{'label': 'POSITIVE', 'score': 0.9986220598220825}]"
            ]
          },
          "execution_count": 1,
          "metadata": {},
          "output_type": "execute_result"
        }
      ],
      "source": [
        "from transformers import pipeline\n",
        "classifier = pipeline('sentiment-analysis')\n",
        "classifier('I enojoy watching this movie!')\n"
      ]
    },
    {
      "cell_type": "code",
      "execution_count": 3,
      "metadata": {},
      "outputs": [
        {
          "name": "stderr",
          "output_type": "stream",
          "text": [
            "No model was supplied, defaulted to distilbert-base-uncased-finetuned-sst-2-english and revision af0f99b (https://huggingface.co/distilbert-base-uncased-finetuned-sst-2-english).\n",
            "Using a pipeline without specifying a model name and revision in production is not recommended.\n"
          ]
        },
        {
          "data": {
            "text/plain": [
              "[{'label': 'NEGATIVE', 'score': 0.9997859597206116}]"
            ]
          },
          "execution_count": 3,
          "metadata": {},
          "output_type": "execute_result"
        }
      ],
      "source": [
        "from transformers import pipeline\n",
        "classifier = pipeline('sentiment-analysis')\n",
        "classifier('This movie was the worst in the series!')"
      ]
    },
    {
      "cell_type": "markdown",
      "metadata": {},
      "source": [
        "## Question Answering"
      ]
    },
    {
      "cell_type": "code",
      "execution_count": 10,
      "metadata": {
        "colab": {
          "base_uri": "https://localhost:8080/",
          "height": 35
        },
        "id": "uYTLhvU3jd7q",
        "outputId": "20c01332-383d-491b-e726-ed0df188b751"
      },
      "outputs": [
        {
          "name": "stderr",
          "output_type": "stream",
          "text": [
            "No model was supplied, defaulted to distilbert-base-cased-distilled-squad and revision 626af31 (https://huggingface.co/distilbert-base-cased-distilled-squad).\n",
            "Using a pipeline without specifying a model name and revision in production is not recommended.\n"
          ]
        },
        {
          "data": {
            "text/plain": [
              "{'score': 0.9644644856452942,\n",
              " 'start': 58,\n",
              " 'end': 74,\n",
              " 'answer': 'November 7, 1867'}"
            ]
          },
          "execution_count": 10,
          "metadata": {},
          "output_type": "execute_result"
        }
      ],
      "source": [
        "\n",
        "nlp = pipeline(\"question-answering\")\n",
        "\n",
        "context = \"\"\" Marie Curie, née Maria Sklodowska, was born in Warsaw on November 7, \\\n",
        "1867, the daughter of a secondary-school teacher. She received a general education \\\n",
        "in local schools and some scientific training from her father. She became involved \\\n",
        "in a students’ revolutionary organization and found it prudent to leave Warsaw, then \\\n",
        "in the part of Poland dominated by Russia, for Cracow, which at that time was under \\\n",
        "Austrian rule. In 1891, she went to Paris to continue her studies at the Sorbonne \\\n",
        "where she obtained Licenciateships in Physics and the Mathematical Sciences. She met \\\n",
        "Pierre Curie, Professor in the School of Physics in 1894 and in the following year \\\n",
        "they were married. She succeeded her husband as Head of the Physics Laboratory at \\\n",
        "the Sorbonne, gained her Doctor of Science degree in 1903, and following the tragic \\\n",
        "death of Pierre Curie in 1906, she took his place as Professor of General Physics in \\\n",
        "the Faculty of Sciences, the first time a woman had held this position. She was also \\\n",
        "appointed Director of the Curie Laboratory in the Radium Institute of the University \\\n",
        "of Paris, founded in 1914.\n",
        "\"\"\"\n",
        "\n",
        "nlp(question=\"When did Marie Curie Born?\", context=context)\n"
      ]
    },
    {
      "cell_type": "code",
      "execution_count": 13,
      "metadata": {},
      "outputs": [
        {
          "data": {
            "text/plain": [
              "{'score': 0.4384763538837433,\n",
              " 'start': 1001,\n",
              " 'end': 1033,\n",
              " 'answer': 'Director of the Curie Laboratory'}"
            ]
          },
          "execution_count": 13,
          "metadata": {},
          "output_type": "execute_result"
        }
      ],
      "source": [
        "nlp(question=\"What are the positions Marie Curie held at University of Paris?\", context=context)"
      ]
    },
    {
      "cell_type": "markdown",
      "metadata": {},
      "source": [
        "## Text Generation"
      ]
    },
    {
      "cell_type": "code",
      "execution_count": 30,
      "metadata": {
        "colab": {
          "base_uri": "https://localhost:8080/"
        },
        "id": "hW-hIaBMjb-v",
        "outputId": "eccd7042-c14e-493e-a567-e697e3da1fc5"
      },
      "outputs": [
        {
          "name": "stderr",
          "output_type": "stream",
          "text": [
            "No model was supplied, defaulted to gpt2 and revision 6c0e608 (https://huggingface.co/gpt2).\n",
            "Using a pipeline without specifying a model name and revision in production is not recommended.\n",
            "Setting `pad_token_id` to `eos_token_id`:50256 for open-end generation.\n"
          ]
        },
        {
          "data": {
            "text/plain": [
              "[{'generated_text': 'An apple fell from the sky'}]"
            ]
          },
          "execution_count": 30,
          "metadata": {},
          "output_type": "execute_result"
        }
      ],
      "source": [
        "text_generator = pipeline(\"text-generation\")\n",
        "text_generator(\"An apple fell from the\", max_length=6, do_sample=True)"
      ]
    },
    {
      "cell_type": "markdown",
      "metadata": {},
      "source": [
        "## Translation"
      ]
    },
    {
      "cell_type": "code",
      "execution_count": 3,
      "metadata": {},
      "outputs": [
        {
          "name": "stderr",
          "output_type": "stream",
          "text": [
            "d:\\TeachingWorkspace\\.venv\\lib\\site-packages\\transformers\\models\\marian\\tokenization_marian.py:194: UserWarning: Recommended: pip install sacremoses.\n",
            "  warnings.warn(\"Recommended: pip install sacremoses.\")\n"
          ]
        },
        {
          "data": {
            "text/plain": [
              "[{'translation_text': 'Bonjour, comment allez-vous ?'}]"
            ]
          },
          "execution_count": 3,
          "metadata": {},
          "output_type": "execute_result"
        }
      ],
      "source": [
        "from transformers import pipeline\n",
        "\n",
        "MODEL = \"Helsinki-NLP/opus-mt-en-fr\"\n",
        "\n",
        "text = \"Hello. How are you?\"\n",
        "translator = pipeline(\"translation\", model=MODEL)\n",
        "\n",
        "translator(text)"
      ]
    },
    {
      "cell_type": "markdown",
      "metadata": {},
      "source": [
        "## Summarization"
      ]
    },
    {
      "cell_type": "code",
      "execution_count": 4,
      "metadata": {},
      "outputs": [
        {
          "name": "stderr",
          "output_type": "stream",
          "text": [
            "Downloading (…)lve/main/config.json: 100%|██████████| 1.58k/1.58k [00:00<?, ?B/s]\n",
            "Downloading pytorch_model.bin: 100%|██████████| 1.63G/1.63G [03:46<00:00, 7.18MB/s]\n",
            "Downloading (…)neration_config.json: 100%|██████████| 363/363 [00:00<?, ?B/s] \n",
            "Downloading (…)olve/main/vocab.json: 100%|██████████| 899k/899k [00:00<00:00, 8.32MB/s]\n",
            "Downloading (…)olve/main/merges.txt: 100%|██████████| 456k/456k [00:00<00:00, 9.80MB/s]\n",
            "Downloading (…)/main/tokenizer.json: 100%|██████████| 1.36M/1.36M [00:00<00:00, 9.11MB/s]\n"
          ]
        },
        {
          "data": {
            "text/plain": [
              "[{'summary_text': 'Marie Curie, née Maria Sklodowska, was born in Warsaw on November 7, 1867. She received a general education in local schools and some scientific training from her father. In 1891, she went to Paris to continue her studies at the Sorbonne where she obtained Licenciateships in Physics and the Mathematical Sciences.'}]"
            ]
          },
          "execution_count": 4,
          "metadata": {},
          "output_type": "execute_result"
        }
      ],
      "source": [
        "from transformers import pipeline\n",
        "\n",
        "MODEL=\"facebook/bart-large-cnn\"\n",
        "\n",
        "summarizer = pipeline(\"summarization\", model=MODEL)\n",
        "\n",
        "text = \"\"\" Marie Curie, née Maria Sklodowska, was born in Warsaw on November 7, \\\n",
        "1867, the daughter of a secondary-school teacher. She received a general education \\\n",
        "in local schools and some scientific training from her father. She became involved \\\n",
        "in a students’ revolutionary organization and found it prudent to leave Warsaw, then \\\n",
        "in the part of Poland dominated by Russia, for Cracow, which at that time was under \\\n",
        "Austrian rule. In 1891, she went to Paris to continue her studies at the Sorbonne \\\n",
        "where she obtained Licenciateships in Physics and the Mathematical Sciences. She met \\\n",
        "Pierre Curie, Professor in the School of Physics in 1894 and in the following year \\\n",
        "they were married. She succeeded her husband as Head of the Physics Laboratory at \\\n",
        "the Sorbonne, gained her Doctor of Science degree in 1903, and following the tragic \\\n",
        "death of Pierre Curie in 1906, she took his place as Professor of General Physics in \\\n",
        "the Faculty of Sciences, the first time a woman had held this position. She was also \\\n",
        "appointed Director of the Curie Laboratory in the Radium Institute of the University \\\n",
        "of Paris, founded in 1914.\n",
        "\"\"\"\n",
        "\n",
        "summarizer(text)"
      ]
    },
    {
      "cell_type": "markdown",
      "metadata": {},
      "source": [
        "## Classification"
      ]
    },
    {
      "cell_type": "code",
      "execution_count": 5,
      "metadata": {},
      "outputs": [
        {
          "name": "stderr",
          "output_type": "stream",
          "text": [
            "Downloading (…)lve/main/config.json: 100%|██████████| 1.15k/1.15k [00:00<?, ?B/s]\n",
            "Downloading model.safetensors: 100%|██████████| 1.63G/1.63G [04:06<00:00, 6.60MB/s]\n",
            "Downloading (…)okenizer_config.json: 100%|██████████| 26.0/26.0 [00:00<00:00, 25.4kB/s]\n",
            "Downloading (…)olve/main/vocab.json: 100%|██████████| 899k/899k [00:00<00:00, 2.24MB/s]\n",
            "Downloading (…)olve/main/merges.txt: 100%|██████████| 456k/456k [00:00<00:00, 8.20MB/s]\n",
            "Downloading (…)/main/tokenizer.json: 100%|██████████| 1.36M/1.36M [00:00<00:00, 6.58MB/s]\n"
          ]
        },
        {
          "data": {
            "text/plain": [
              "{'sequence': 'Today I am going to prepare a dinner for my friends',\n",
              " 'labels': ['cooking', 'learning', 'playing', 'travel'],\n",
              " 'scores': [0.9570968747138977,\n",
              "  0.03565406799316406,\n",
              "  0.005505912937223911,\n",
              "  0.0017431112937629223]}"
            ]
          },
          "execution_count": 5,
          "metadata": {},
          "output_type": "execute_result"
        }
      ],
      "source": [
        "from transformers import pipeline\n",
        "\n",
        "MODEL=\"facebook/bart-large-mnli\"\n",
        "\n",
        "classifier = pipeline(\"zero-shot-classification\", model=MODEL)\n",
        "\n",
        "sequence_to_classify = \"Today I am going to prepare a dinner for my friends\"\n",
        "\n",
        "candidate_labels = ['travel', 'cooking', 'playing', 'learning']\n",
        "\n",
        "classifier(sequence_to_classify, candidate_labels)"
      ]
    },
    {
      "cell_type": "code",
      "execution_count": 6,
      "metadata": {},
      "outputs": [
        {
          "data": {
            "text/plain": [
              "{'sequence': 'I am going to visit Paris next year',\n",
              " 'labels': ['travel', 'learning', 'playing', 'cooking'],\n",
              " 'scores': [0.7273194789886475,\n",
              "  0.17637674510478973,\n",
              "  0.09052838385105133,\n",
              "  0.005775348283350468]}"
            ]
          },
          "execution_count": 6,
          "metadata": {},
          "output_type": "execute_result"
        }
      ],
      "source": [
        "sequence_to_classify = \"I am going to visit Paris next year\"\n",
        "\n",
        "candidate_labels = ['travel', 'cooking', 'playing', 'learning']\n",
        "\n",
        "classifier(sequence_to_classify, candidate_labels)"
      ]
    },
    {
      "cell_type": "code",
      "execution_count": 7,
      "metadata": {},
      "outputs": [
        {
          "data": {
            "text/plain": [
              "{'sequence': 'I scored 75 runs in the cricket macth yesterday',\n",
              " 'labels': ['playing', 'learning', 'travel', 'cooking'],\n",
              " 'scores': [0.8781684041023254,\n",
              "  0.09010912477970123,\n",
              "  0.018548928201198578,\n",
              "  0.013173486106097698]}"
            ]
          },
          "execution_count": 7,
          "metadata": {},
          "output_type": "execute_result"
        }
      ],
      "source": [
        "sequence_to_classify = \"I scored 75 runs in the cricket match yesterday\"\n",
        "\n",
        "candidate_labels = ['travel', 'cooking', 'playing', 'learning']\n",
        "\n",
        "classifier(sequence_to_classify, candidate_labels)"
      ]
    },
    {
      "cell_type": "markdown",
      "metadata": {
        "id": "zcOzk1VYhVpQ"
      },
      "source": [
        "<hr/>\n",
        "Last update 2023-07-04 by Sumudu Tennakoon\n",
        "\n",
        "<a rel=\"license\" href=\"http://creativecommons.org/licenses/by-nc-sa/4.0/\"><img alt=\"Creative Commons License\" style=\"border-width:0\" src=\"https://i.creativecommons.org/l/by-nc-sa/4.0/88x31.png\" /></a><br />This work is licensed under a <a rel=\"license\" href=\"http://creativecommons.org/licenses/by-nc-sa/4.0/\">Creative Commons Attribution-NonCommercial-ShareAlike 4.0 International License</a>."
      ]
    }
  ],
  "metadata": {
    "colab": {
      "provenance": []
    },
    "kernelspec": {
      "display_name": "Python 3",
      "name": "python3"
    },
    "language_info": {
      "codemirror_mode": {
        "name": "ipython",
        "version": 3
      },
      "file_extension": ".py",
      "mimetype": "text/x-python",
      "name": "python",
      "nbconvert_exporter": "python",
      "pygments_lexer": "ipython3",
      "version": "3.10.11"
    }
  },
  "nbformat": 4,
  "nbformat_minor": 0
}
