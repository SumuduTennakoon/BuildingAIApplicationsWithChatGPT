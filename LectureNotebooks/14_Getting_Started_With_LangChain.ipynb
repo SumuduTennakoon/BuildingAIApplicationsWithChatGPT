{
 "cells": [
  {
   "cell_type": "markdown",
   "metadata": {},
   "source": [
    "# Building AI Applications with ChatGPT\n",
    "\n",
    "Sumudu Tennakoon, PhD\n",
    "<hr>\n",
    "\n",
    "# Getting Started With LangChain\n",
    "\n",
    "In this notebook we will explore some basic fetures on Python programing language for those who have a prior programing expereince.\n",
    "\n",
    "To learn more about Python, refeer to the following websites\n",
    "\n",
    "- Python : https://www.python.org\n",
    "\n",
    "To learn more about the Python packages we explore in this notebook, refer to the following websites\n",
    "\n",
    "- OpenAI API : https://platform.openai.com/docs/api-reference\n",
    "- LangChain : https://python.langchain.com/docs/get_started/introduction.html\n"
   ]
  },
  {
   "cell_type": "markdown",
   "metadata": {},
   "source": [
    "### Python Library Installation\n",
    "\n",
    "* Run below code cell to install required libraries before you continue. Ignore that if you already installed them."
   ]
  },
  {
   "cell_type": "code",
   "execution_count": null,
   "metadata": {},
   "outputs": [],
   "source": [
    "!pip install openai langchain"
   ]
  },
  {
   "cell_type": "markdown",
   "metadata": {},
   "source": [
    "### Load OpenAI API Key"
   ]
  },
  {
   "cell_type": "code",
   "execution_count": 2,
   "metadata": {},
   "outputs": [],
   "source": [
    "import configparser\n",
    "config = configparser.ConfigParser()\n",
    "config.read(r'../../../config.ini') #Change to your path or assign API Key to openai_api_key (not recomended for production)\n",
    "\n",
    "openai_api_key = config['SECRETS']['openai_api_key']"
   ]
  },
  {
   "cell_type": "markdown",
   "metadata": {},
   "source": [
    "## Langchain Modules\n",
    "https://python.langchain.com/docs/modules/\n",
    "* Model I/O\n",
    "* Data connection\n",
    "* Chains\n",
    "* Agents\n",
    "* Memory\n",
    "* Callbacks\n",
    "* Evaluation"
   ]
  },
  {
   "cell_type": "markdown",
   "metadata": {},
   "source": [
    "## LangChain with OpenAI"
   ]
  },
  {
   "cell_type": "code",
   "execution_count": 7,
   "metadata": {},
   "outputs": [],
   "source": [
    "from langchain.chat_models import ChatOpenAI\n",
    "from langchain.schema import AIMessage, HumanMessage, SystemMessage"
   ]
  },
  {
   "cell_type": "code",
   "execution_count": 16,
   "metadata": {},
   "outputs": [],
   "source": [
    "MODEL = \"gpt-3.5-turbo\"\n",
    "\n",
    "chat_llm = ChatOpenAI(model=MODEL, temperature=1, max_tokens=200, openai_api_key=openai_api_key)"
   ]
  },
  {
   "cell_type": "code",
   "execution_count": 30,
   "metadata": {},
   "outputs": [
    {
     "data": {
      "text/plain": [
       "AIMessage(content='හෙලෝ! ඔයාට කොහොමද? (Sinhala)\\nவணக்கம்! நீங்கள் எப்படி இருக்கின்றீர்கள்? (Tamil)', additional_kwargs={}, example=False)"
      ]
     },
     "execution_count": 30,
     "metadata": {},
     "output_type": "execute_result"
    }
   ],
   "source": [
    "messages = [\n",
    "    SystemMessage(\n",
    "        content=\"You are a language translator that translates a text given in English to Sinhala and Tamil.\"\n",
    "    ),\n",
    "    HumanMessage(\n",
    "        content=\"Hello! How are you?\"\n",
    "    ),\n",
    "]\n",
    "\n",
    "response = chat_llm(messages)\n",
    "response"
   ]
  },
  {
   "cell_type": "code",
   "execution_count": 31,
   "metadata": {},
   "outputs": [
    {
     "data": {
      "text/plain": [
       "{'content': 'හෙලෝ! ඔයාට කොහොමද? (Sinhala)\\nவணக்கம்! நீங்கள் எப்படி இருக்கின்றீர்கள்? (Tamil)',\n",
       " 'additional_kwargs': {},\n",
       " 'example': False}"
      ]
     },
     "execution_count": 31,
     "metadata": {},
     "output_type": "execute_result"
    }
   ],
   "source": [
    "response.dict()"
   ]
  },
  {
   "cell_type": "code",
   "execution_count": 32,
   "metadata": {},
   "outputs": [
    {
     "name": "stdout",
     "output_type": "stream",
     "text": [
      "හෙලෝ! ඔයාට කොහොමද? (Sinhala)\n",
      "வணக்கம்! நீங்கள் எப்படி இருக்கின்றீர்கள்? (Tamil)\n"
     ]
    }
   ],
   "source": [
    "print(response.content)"
   ]
  },
  {
   "cell_type": "code",
   "execution_count": 33,
   "metadata": {},
   "outputs": [
    {
     "name": "stdout",
     "output_type": "stream",
     "text": [
      "හෙලෝ! ඔයාට කොහොමද? (Sinhala)\n",
      "வணக்கம்! நீங்கள் எப்படி இருக்கின்றீர்கள்? (Tamil)\n"
     ]
    }
   ],
   "source": [
    "print(response.dict()['content'])"
   ]
  },
  {
   "cell_type": "markdown",
   "metadata": {},
   "source": [
    "### Prompt Templates"
   ]
  },
  {
   "cell_type": "code",
   "execution_count": 35,
   "metadata": {},
   "outputs": [],
   "source": [
    "from langchain.prompts.chat import (\n",
    "    SystemMessagePromptTemplate,\n",
    "    HumanMessagePromptTemplate,\n",
    "    ChatPromptTemplate,\n",
    ")"
   ]
  },
  {
   "cell_type": "code",
   "execution_count": 38,
   "metadata": {},
   "outputs": [],
   "source": [
    "# System Prompt\n",
    "system_prompt_template = (\n",
    "    \"You are a language translator that translates a text given in {input_language} to {output_language}.\"\n",
    ")\n",
    "system_message_prompt = SystemMessagePromptTemplate.from_template(system_prompt_template)\n",
    "\n",
    "# Human Prompt\n",
    "human_prompt_template = \"{text}\"\n",
    "human_message_prompt = HumanMessagePromptTemplate.from_template(human_prompt_template)"
   ]
  },
  {
   "cell_type": "code",
   "execution_count": 39,
   "metadata": {},
   "outputs": [],
   "source": [
    "chat_llm_prompt = ChatPromptTemplate.from_messages(\n",
    "    [system_message_prompt, human_message_prompt]\n",
    ")"
   ]
  },
  {
   "cell_type": "code",
   "execution_count": 41,
   "metadata": {},
   "outputs": [
    {
     "data": {
      "text/plain": [
       "ChatPromptTemplate(input_variables=['input_language', 'output_language', 'text'], output_parser=None, partial_variables={}, messages=[SystemMessagePromptTemplate(prompt=PromptTemplate(input_variables=['input_language', 'output_language'], output_parser=None, partial_variables={}, template='You are a language translator that translates a text given in {input_language} to {output_language}.', template_format='f-string', validate_template=True), additional_kwargs={}), HumanMessagePromptTemplate(prompt=PromptTemplate(input_variables=['text'], output_parser=None, partial_variables={}, template='{text}', template_format='f-string', validate_template=True), additional_kwargs={})])"
      ]
     },
     "execution_count": 41,
     "metadata": {},
     "output_type": "execute_result"
    }
   ],
   "source": [
    "chat_llm_prompt"
   ]
  },
  {
   "cell_type": "code",
   "execution_count": 44,
   "metadata": {},
   "outputs": [
    {
     "data": {
      "text/plain": [
       "[SystemMessage(content='You are a language translator that translates a text given in English to Sinhala.', additional_kwargs={}),\n",
       " HumanMessage(content='Hello! How are you?', additional_kwargs={}, example=False)]"
      ]
     },
     "execution_count": 44,
     "metadata": {},
     "output_type": "execute_result"
    }
   ],
   "source": [
    "chat_llm_prompt.format_prompt(\n",
    "    input_language=\"English\", output_language=\"Sinhala\", text=\"Hello! How are you?\"\n",
    ").to_messages()"
   ]
  },
  {
   "cell_type": "code",
   "execution_count": 42,
   "metadata": {},
   "outputs": [
    {
     "data": {
      "text/plain": [
       "AIMessage(content='හෙලෝ! කොහොමද?', additional_kwargs={}, example=False)"
      ]
     },
     "execution_count": 42,
     "metadata": {},
     "output_type": "execute_result"
    }
   ],
   "source": [
    "chat_llm(\n",
    "    chat_llm_prompt.format_prompt(\n",
    "        input_language=\"English\", output_language=\"Sinhala\", text=\"Hello! How are you?\"\n",
    "    ).to_messages()\n",
    ")"
   ]
  },
  {
   "cell_type": "markdown",
   "metadata": {},
   "source": [
    "## Working with Chains"
   ]
  },
  {
   "cell_type": "code",
   "execution_count": 48,
   "metadata": {},
   "outputs": [],
   "source": [
    "from langchain import PromptTemplate, OpenAI, LLMChain"
   ]
  },
  {
   "cell_type": "code",
   "execution_count": 57,
   "metadata": {},
   "outputs": [
    {
     "data": {
      "text/plain": [
       "'හෙලෝ! කොහොමද?'"
      ]
     },
     "execution_count": 57,
     "metadata": {},
     "output_type": "execute_result"
    }
   ],
   "source": [
    "# Chat Completion\n",
    "\n",
    "MODEL = \"gpt-3.5-turbo\"\n",
    "\n",
    "chat_llm = ChatOpenAI(model=MODEL, temperature=1, max_tokens=200, openai_api_key=openai_api_key)\n",
    "\n",
    "# System Prompt\n",
    "system_prompt_template = (\n",
    "    \"You are a language translator that translates a text given in {input_language} to {output_language}.\"\n",
    ")\n",
    "system_message_prompt = SystemMessagePromptTemplate.from_template(system_prompt_template, input_variables=[\"input_language\", \"output_language\"])\n",
    "\n",
    "# Human Prompt\n",
    "human_prompt_template = \"{text}\"\n",
    "human_message_prompt = HumanMessagePromptTemplate.from_template(human_prompt_template, input_variables=[\"text\"])\n",
    "\n",
    "# Final Prompt\n",
    "chat_llm_prompt = ChatPromptTemplate.from_messages(\n",
    "    [system_message_prompt, human_message_prompt]\n",
    ")\n",
    "\n",
    "chat_llm_chain = LLMChain(\n",
    "    llm=chat_llm,\n",
    "    prompt=chat_llm_prompt,\n",
    ")\n",
    "\n",
    "\n",
    "response = chat_llm_chain.predict(input_language=\"English\", output_language=\"Sinhala\", text=\"Hello! How are you?\")\n",
    "response"
   ]
  },
  {
   "cell_type": "markdown",
   "metadata": {},
   "source": [
    "<hr/>\n",
    "Last update 2023-07-08 by Sumudu Tennakoon\n",
    "\n",
    "<a rel=\"license\" href=\"http://creativecommons.org/licenses/by-nc-sa/4.0/\"><img alt=\"Creative Commons License\" style=\"border-width:0\" src=\"https://i.creativecommons.org/l/by-nc-sa/4.0/88x31.png\" /></a><br />This work is licensed under a <a rel=\"license\" href=\"http://creativecommons.org/licenses/by-nc-sa/4.0/\">Creative Commons Attribution-NonCommercial-ShareAlike 4.0 International License</a>."
   ]
  }
 ],
 "metadata": {
  "kernelspec": {
   "display_name": ".venv",
   "language": "python",
   "name": "python3"
  },
  "language_info": {
   "codemirror_mode": {
    "name": "ipython",
    "version": 3
   },
   "file_extension": ".py",
   "mimetype": "text/x-python",
   "name": "python",
   "nbconvert_exporter": "python",
   "pygments_lexer": "ipython3",
   "version": "3.10.11"
  },
  "orig_nbformat": 4
 },
 "nbformat": 4,
 "nbformat_minor": 2
}
