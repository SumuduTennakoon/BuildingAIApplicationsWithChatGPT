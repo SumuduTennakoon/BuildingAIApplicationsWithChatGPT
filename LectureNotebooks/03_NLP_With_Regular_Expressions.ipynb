{
  "cells": [
    {
      "cell_type": "markdown",
      "metadata": {
        "id": "80YnPM-vhaCm"
      },
      "source": [
        "\n",
        "# Building AI Applications with ChatGPT\n",
        "\n",
        "Sumudu Tennakoon, PhD\n",
        "<hr>\n",
        "\n",
        "# NLP with Regular Expressions (RegEx)\n",
        "\n",
        "In this notebook we will explore some basic fetures on Python programing language for those who have a prior programing expereince.\n",
        "\n",
        "To learn more about Python, refeer to the following websites\n",
        "\n",
        "- Python : https://www.python.org\n",
        "\n",
        "To learn more about the Python packages we explore in this notebook, refer to the following websites\n",
        "\n",
        "- Python RegEx : https://docs.python.org/3/howto/regex.html\n",
        "- Python String : https://docs.python.org/3/library/string.html"
      ]
    },
    {
      "cell_type": "markdown",
      "metadata": {
        "id": "yexZBDVRcHBA"
      },
      "source": [
        "## Example 1: Extrating Email Address and Phone Numbers"
      ]
    },
    {
      "cell_type": "code",
      "execution_count": 130,
      "metadata": {
        "colab": {
          "base_uri": "https://localhost:8080/"
        },
        "id": "_WDu4H38cRuo",
        "outputId": "c2cba806-b513-4b0c-ac50-3af0be4afd3d"
      },
      "outputs": [
        {
          "name": "stdout",
          "output_type": "stream",
          "text": [
            "\n",
            "Dear Toyota Motors Regional Office,\n",
            "\n",
            "I am writing to inform you that I recently received a recall notification for my Toyota Prius. I purchased the car in 2022 and its Vehicle Identification Number (VIN) is VIN1234567890.\n",
            "\n",
            "I am located in Albany, New York and my phone number is +1 (234) 567-8900. My email address is john@exampledomain.com. Could you please use this information to locate my customer account and let me know the closest dealership where I can get the recall service done?\n",
            "\n",
            "Thank you for your assistance.\n",
            "\n",
            "Sincerely,\n",
            "John Smith\n",
            "\n"
          ]
        }
      ],
      "source": [
        "# String\n",
        "email_text = \"\"\"\n",
        "Dear Toyota Motors Regional Office,\n",
        "\n",
        "I am writing to inform you that I recently received a recall notification for my Toyota Prius. I purchased the car in 2022 and its Vehicle Identification Number (VIN) is VIN1234567890.\n",
        "\n",
        "I am located in Albany, New York and my phone number is +1 (234) 567-8900. My email address is john@exampledomain.com. Could you please use this information to locate my customer account and let me know the closest dealership where I can get the recall service done?\n",
        "\n",
        "Thank you for your assistance.\n",
        "\n",
        "Sincerely,\n",
        "John Smith\n",
        "\"\"\"\n",
        "\n",
        "print(email_text)"
      ]
    },
    {
      "cell_type": "code",
      "execution_count": 131,
      "metadata": {},
      "outputs": [
        {
          "name": "stdout",
          "output_type": "stream",
          "text": [
            "['john@exampledomain.com']\n"
          ]
        }
      ],
      "source": [
        "import re\n",
        "\n",
        "email_pattern = r'\\b[A-Za-z0-9._%+-]+@[A-Za-z0-9.-]+\\.[A-Z|a-z]{2,}\\b'\n",
        "\n",
        "email_address = re.findall(email_pattern, email_text)\n",
        "\n",
        "print(email_address)"
      ]
    },
    {
      "cell_type": "code",
      "execution_count": 44,
      "metadata": {},
      "outputs": [
        {
          "name": "stdout",
          "output_type": "stream",
          "text": [
            "['1 (234) 567-8900']\n"
          ]
        }
      ],
      "source": [
        "import re\n",
        "\n",
        "phone_pattern = r'\\b[+]?\\d{0,2}?[ ]?\\(?\\d{3}\\)?[-. /]?\\d{3}[-.]?\\d{4}\\b'\n",
        "\n",
        "phone_number = re.findall(phone_pattern, email_text)\n",
        "\n",
        "print(phone_number)"
      ]
    },
    {
      "cell_type": "code",
      "execution_count": 43,
      "metadata": {
        "colab": {
          "base_uri": "https://localhost:8080/"
        },
        "id": "hW-hIaBMjb-v",
        "outputId": "eccd7042-c14e-493e-a567-e697e3da1fc5"
      },
      "outputs": [
        {
          "name": "stdout",
          "output_type": "stream",
          "text": [
            "['123-456-7890']\n"
          ]
        }
      ],
      "source": [
        "import re\n",
        "\n",
        "text = \"123-456-7890\"\n",
        "\n",
        "phone_pattern = r'\\b[+]?\\d{0,2}?[ ]?\\(?\\d{3}\\)?[-. /]?\\d{3}[-.]?\\d{4}\\b'\n",
        "\n",
        "phone_number = re.findall(phone_pattern, text)\n",
        "\n",
        "print(phone_number)"
      ]
    },
    {
      "cell_type": "code",
      "execution_count": 45,
      "metadata": {
        "colab": {
          "base_uri": "https://localhost:8080/",
          "height": 35
        },
        "id": "uYTLhvU3jd7q",
        "outputId": "20c01332-383d-491b-e726-ed0df188b751"
      },
      "outputs": [
        {
          "name": "stdout",
          "output_type": "stream",
          "text": [
            "['123.456.7890']\n"
          ]
        }
      ],
      "source": [
        "import re\n",
        "\n",
        "text = \"123.456.7890\"\n",
        "\n",
        "phone_pattern = r'\\b[+]?\\d{0,2}?[ ]?\\(?\\d{3}\\)?[-. /]?\\d{3}[-.]?\\d{4}\\b'\n",
        "\n",
        "phone_number = re.findall(phone_pattern, text)\n",
        "\n",
        "print(phone_number)"
      ]
    },
    {
      "cell_type": "code",
      "execution_count": 47,
      "metadata": {},
      "outputs": [
        {
          "name": "stdout",
          "output_type": "stream",
          "text": [
            "['94 777-1234567']\n"
          ]
        }
      ],
      "source": [
        "import re\n",
        "\n",
        "text = \"+94 777-1234567\"\n",
        "\n",
        "phone_pattern = r'\\b[+]?\\d{0,2}?[ ]?\\(?\\d{3}\\)?[-. /]?\\d{3}[-.]?\\d{4}\\b'\n",
        "\n",
        "phone_number = re.findall(phone_pattern, text)\n",
        "\n",
        "print(phone_number)"
      ]
    },
    {
      "cell_type": "code",
      "execution_count": 51,
      "metadata": {},
      "outputs": [
        {
          "name": "stdout",
          "output_type": "stream",
          "text": [
            "['947771234567']\n"
          ]
        }
      ],
      "source": [
        "import re\n",
        "\n",
        "text = \"+947771234567\"\n",
        "\n",
        "phone_pattern = r'\\b[+]?\\d{0,2}?[ ]?\\(?\\d{3}\\)?[-. /]?\\d{3}[-.]?\\d{4}\\b'\n",
        "\n",
        "phone_number = re.findall(phone_pattern, text)\n",
        "\n",
        "print(phone_number)"
      ]
    },
    {
      "cell_type": "markdown",
      "metadata": {},
      "source": [
        "## Exercises 1 & 2"
      ]
    },
    {
      "cell_type": "code",
      "execution_count": null,
      "metadata": {},
      "outputs": [],
      "source": [
        "# 1. Use regular expression to extract IP address from given text.\n",
        "\n",
        "text = \"Our new server is now online. Please connect to 192.0.100.254 for faster access.\"\n",
        "\n",
        "# Type your code below\n"
      ]
    },
    {
      "cell_type": "code",
      "execution_count": null,
      "metadata": {},
      "outputs": [],
      "source": [
        "# 2. Use regular expression to extract URL from the text below.\n",
        "\n",
        "text = \"For more information, visit our website at https://www.example.com/xyzcompany and check out our FAQ section.\"\n",
        "\n",
        "# Type your code below\n"
      ]
    },
    {
      "cell_type": "markdown",
      "metadata": {},
      "source": [
        "## Python Dictionaries"
      ]
    },
    {
      "cell_type": "code",
      "execution_count": 57,
      "metadata": {},
      "outputs": [
        {
          "name": "stdout",
          "output_type": "stream",
          "text": [
            "John Smith\n"
          ]
        }
      ],
      "source": [
        "customer_data = {\n",
        "            \"name\":\"John Smith\",\n",
        "            \"phone_number\": \"(234) 567-8900\",\n",
        "            \"email_address\": \"john@exampledomain.com\"\n",
        "}\n",
        "\n",
        "print(customer_data[\"name\"])"
      ]
    },
    {
      "cell_type": "code",
      "execution_count": 59,
      "metadata": {},
      "outputs": [
        {
          "name": "stdout",
          "output_type": "stream",
          "text": [
            "[{'name': 'John Smith', 'phone_number': '(234) 567-8900', 'email_address': 'john@exampledomain.com'}]\n"
          ]
        }
      ],
      "source": [
        "# List of dictionaries\n",
        "customers = []\n",
        "\n",
        "# add customer to list\n",
        "customers.append(customer_data)\n",
        "print(customers)"
      ]
    },
    {
      "cell_type": "code",
      "execution_count": 60,
      "metadata": {},
      "outputs": [
        {
          "name": "stdout",
          "output_type": "stream",
          "text": [
            "[{'name': 'John Smith', 'phone_number': '(234) 567-8900', 'email_address': 'john@exampledomain.com'}, {'name': 'Jane Doe', 'phone_number': '(987) 654-3211', 'email_address': 'jane@exampledomain.net'}]\n"
          ]
        }
      ],
      "source": [
        "# new customer\n",
        "new_customer_data= {\n",
        "            \"name\":\"Jane Doe\",\n",
        "            \"phone_number\": \"(987) 654-3211\",\n",
        "            \"email_address\": \"jane@exampledomain.net\"\n",
        "}\n",
        "\n",
        "customers.append(new_customer_data)\n",
        "print(customers)"
      ]
    },
    {
      "cell_type": "code",
      "execution_count": 64,
      "metadata": {},
      "outputs": [
        {
          "data": {
            "text/plain": [
              "2"
            ]
          },
          "execution_count": 64,
          "metadata": {},
          "output_type": "execute_result"
        }
      ],
      "source": [
        "print( len(customers) )"
      ]
    },
    {
      "cell_type": "code",
      "execution_count": 65,
      "metadata": {},
      "outputs": [
        {
          "name": "stdout",
          "output_type": "stream",
          "text": [
            "jane@exampledomain.net\n"
          ]
        }
      ],
      "source": [
        "print( customers[1][\"email_address\"] )"
      ]
    },
    {
      "cell_type": "markdown",
      "metadata": {},
      "source": [
        "## Example 2: Parse Server Log\n",
        "### Text to Structured Data"
      ]
    },
    {
      "cell_type": "code",
      "execution_count": 70,
      "metadata": {},
      "outputs": [
        {
          "data": {
            "text/plain": [
              "('INFO', '2023-01-01 12:00:00', 'server started')"
            ]
          },
          "execution_count": 70,
          "metadata": {},
          "output_type": "execute_result"
        }
      ],
      "source": [
        "import re\n",
        "\n",
        "server_log_record = \"INFO 2023-01-01 12:00:00 server started\"\n",
        "\n",
        "log_pattern = r'(\\w+) (\\d{4}-\\d{2}-\\d{2} \\d{2}:\\d{2}:\\d{2}) (.*)'\n",
        "\n",
        "match = re.match(log_pattern, server_log_record)\n",
        "\n",
        "match_groups = match.groups()\n",
        "\n",
        "match_groups"
      ]
    },
    {
      "cell_type": "code",
      "execution_count": 76,
      "metadata": {},
      "outputs": [
        {
          "name": "stdout",
          "output_type": "stream",
          "text": [
            "{'level': 'WARNING', 'timestamp': '2023-01-01 12:15:12', 'message': 'slow query detected'}\n"
          ]
        }
      ],
      "source": [
        "log_item = {\n",
        "    \"level\":match_groups[0], \n",
        "    \"timestamp\":match_groups[1], \n",
        "    \"message\":match_groups[2]\n",
        "}\n",
        "\n",
        "print(log_item)"
      ]
    },
    {
      "cell_type": "markdown",
      "metadata": {},
      "source": [
        "### Parsing Log File"
      ]
    },
    {
      "cell_type": "code",
      "execution_count": 74,
      "metadata": {},
      "outputs": [
        {
          "name": "stdout",
          "output_type": "stream",
          "text": [
            "[{'level': 'INFO', 'timestamp': '2023-01-01 12:00:00', 'message': 'server started'}, {'level': 'ERROR', 'timestamp': '2023-01-01 12:05:23', 'message': 'failed to start database'}, {'level': 'INFO', 'timestamp': '2023-01-01 12:10:45', 'message': 'database started'}, {'level': 'WARNING', 'timestamp': '2023-01-01 12:15:12', 'message': 'slow query detected'}]\n"
          ]
        }
      ],
      "source": [
        "import re\n",
        "\n",
        "server_log = \"\"\"\n",
        "INFO 2023-01-01 12:00:00 server started\n",
        "ERROR 2023-01-01 12:05:23 failed to start database\n",
        "INFO 2023-01-01 12:10:45 database started\n",
        "WARNING 2023-01-01 12:15:12 slow query detected\n",
        "\"\"\"\n",
        "\n",
        "log_pattern = r'(\\w+) (\\d{4}-\\d{2}-\\d{2} \\d{2}:\\d{2}:\\d{2}) (.*)'\n",
        "\n",
        "log_items = []\n",
        "\n",
        "for match in re.finditer(log_pattern, server_log):\n",
        "    match_groups = match.groups()\n",
        "    \n",
        "    log_items.append({\n",
        "        \"level\":match_groups[0], \n",
        "        \"timestamp\":match_groups[1], \n",
        "        \"message\":match_groups[2]\n",
        "    })\n",
        "\n",
        "print(log_items)"
      ]
    },
    {
      "cell_type": "code",
      "execution_count": 75,
      "metadata": {},
      "outputs": [
        {
          "name": "stdout",
          "output_type": "stream",
          "text": [
            "{'level': 'INFO', 'timestamp': '2023-01-01 12:00:00', 'message': 'server started'}\n"
          ]
        }
      ],
      "source": [
        "print(log_items[0])"
      ]
    },
    {
      "cell_type": "markdown",
      "metadata": {},
      "source": [
        "## Regular Expressions Practice"
      ]
    },
    {
      "cell_type": "markdown",
      "metadata": {},
      "source": [
        "### Extract Numbers"
      ]
    },
    {
      "cell_type": "code",
      "execution_count": 119,
      "metadata": {},
      "outputs": [
        {
          "name": "stdout",
          "output_type": "stream",
          "text": [
            "['123', '345', '567']\n"
          ]
        }
      ],
      "source": [
        "# Extract only 4 digit numbers\n",
        "\n",
        "text = \"A customer visited our store #8900 bought 3 items with codes 1234, 3456 and 5678. He paid $23.50 in total.\"\n",
        "\n",
        "pattern = r\"\\b(\\d\\d\\d\\d)\\b\"  #r\"\\b(\\d{4})\\b\"\n",
        "\n",
        "numbers = re.findall(pattern, text)\n",
        "\n",
        "print(numbers)"
      ]
    },
    {
      "cell_type": "code",
      "execution_count": 120,
      "metadata": {},
      "outputs": [
        {
          "name": "stdout",
          "output_type": "stream",
          "text": [
            "['$23.50']\n"
          ]
        }
      ],
      "source": [
        "# Extract amounts with currency\n",
        "\n",
        "text = \"A customer visited our store #8900 bought 3 items with codes 123, 345 and 567. He paid $23.50 in total.\"\n",
        "\n",
        "pattern = r\"([$]\\d+\\.?\\d{2})\"  #(\\d+\\.?\\d{2})\\b\n",
        "\n",
        "numbers = re.findall(pattern, text)\n",
        "\n",
        "print(numbers)"
      ]
    },
    {
      "cell_type": "markdown",
      "metadata": {},
      "source": [
        "### Extract 3 Letter Codes"
      ]
    },
    {
      "cell_type": "code",
      "execution_count": 126,
      "metadata": {},
      "outputs": [
        {
          "name": "stdout",
          "output_type": "stream",
          "text": [
            "['The', 'Uni', 'ted', 'Nat', 'ion', 'int', 'ern', 'ati', 'ona', 'org', 'ani', 'zat', 'ion', 'mad', '193', 'mem', 'ber', 'sta', 'tes', 'Som', 'the', 'mem', 'ber', 'sta', 'tes', 'inc', 'lud', 'the', 'Uni', 'ted', 'Sta', 'tes', 'Ame', 'ric', 'USA', 'the', 'Uni', 'ted', 'Kin', 'gdo', 'Gre', 'Bri', 'tai', 'and', 'Nor', 'the', 'Ire', 'lan', 'GBR', 'the', 'Fre', 'nch', 'Rep', 'ubl', 'FRA', 'the', 'Fed', 'era', 'Rep', 'ubl', 'Ger', 'man', 'DEU', 'and', 'the', 'Peo', 'ple', 'Rep', 'ubl', 'Chi', 'CHN', 'Eac', 'mem', 'ber', 'sta', 'rep', 'res', 'ent', 'its', 'ISO', 'cou', 'ntr', 'cod', 'whi', 'thr', 'let', 'ter', 'cod', 'tha', 'uni', 'que', 'ide', 'nti', 'fie', 'the', 'cou', 'ntr', 'iso']\n"
          ]
        }
      ],
      "source": [
        "text = \"The United Nations is an international organization made up of 193 member states. Some of the member states include the United States of America (USA), the United Kingdom of Great Britain and Northern Ireland (GBR), the French Republic (FRA), the Federal Republic of Germany (DEU), and the People’s Republic of China (CHN). Each member state is represented by its ISO 3 country code, which is a three-letter code that uniquely identifies the country. (iso)\"\n",
        "\n",
        "pattern = r\"(\\w{3})\" \n",
        "\n",
        "numbers = re.findall(pattern, text)\n",
        "\n",
        "print(numbers)"
      ]
    },
    {
      "cell_type": "code",
      "execution_count": 127,
      "metadata": {},
      "outputs": [
        {
          "name": "stdout",
          "output_type": "stream",
          "text": [
            "['The', '193', 'the', 'the', 'USA', 'the', 'and', 'GBR', 'the', 'FRA', 'the', 'DEU', 'and', 'the', 'CHN', 'its', 'ISO', 'the', 'iso']\n"
          ]
        }
      ],
      "source": [
        "# Add word boundary\n",
        "\n",
        "text = \"The United Nations is an international organization made up of 193 member states. Some of the member states include the United States of America (USA), the United Kingdom of Great Britain and Northern Ireland (GBR), the French Republic (FRA), the Federal Republic of Germany (DEU), and the People’s Republic of China (CHN). Each member state is represented by its ISO 3 country code, which is a three-letter code that uniquely identifies the country. (iso)\"\n",
        "\n",
        "pattern = r\"\\b(\\w{3})\\b\" \n",
        "\n",
        "numbers = re.findall(pattern, text)\n",
        "\n",
        "print(numbers)"
      ]
    },
    {
      "cell_type": "code",
      "execution_count": 128,
      "metadata": {},
      "outputs": [
        {
          "name": "stdout",
          "output_type": "stream",
          "text": [
            "['USA', 'GBR', 'FRA', 'DEU', 'CHN', 'ISO']\n"
          ]
        }
      ],
      "source": [
        "# limit character set\n",
        "\n",
        "text = \"The United Nations is an international organization made up of 193 member states. Some of the member states include the United States of America (USA), the United Kingdom of Great Britain and Northern Ireland (GBR), the French Republic (FRA), the Federal Republic of Germany (DEU), and the People’s Republic of China (CHN). Each member state is represented by its ISO 3 country code, which is a three-letter code that uniquely identifies the country. (iso)\"\n",
        "\n",
        "pattern = r\"([A-Z]{3})\" \n",
        "\n",
        "numbers = re.findall(pattern, text)\n",
        "\n",
        "print(numbers)"
      ]
    },
    {
      "cell_type": "code",
      "execution_count": 129,
      "metadata": {},
      "outputs": [
        {
          "name": "stdout",
          "output_type": "stream",
          "text": [
            "['USA', 'GBR', 'FRA', 'DEU', 'CHN']\n"
          ]
        }
      ],
      "source": [
        "# Add condition to restrict to codes within parenthesis \"( )\"\n",
        "\n",
        "text = \"The United Nations is an international organization made up of 193 member states. Some of the member states include the United States of America (USA), the United Kingdom of Great Britain and Northern Ireland (GBR), the French Republic (FRA), the Federal Republic of Germany (DEU), and the People’s Republic of China (CHN). Each member state is represented by its ISO 3 country code, which is a three-letter code that uniquely identifies the country. (iso)\"\n",
        "\n",
        "pattern = r\"\\(([A-Z]{3})\\)\" \n",
        "\n",
        "numbers = re.findall(pattern, text)\n",
        "\n",
        "print(numbers)"
      ]
    },
    {
      "cell_type": "markdown",
      "metadata": {},
      "source": [
        "## Exercise 3"
      ]
    },
    {
      "cell_type": "code",
      "execution_count": null,
      "metadata": {},
      "outputs": [],
      "source": [
        "# Transform each row of the text into a dictionary objects containing keys below\n",
        "# EventID | Time | IPAddress | Event | RequestURL | Result\n",
        "\n",
        "text = \"\"\"\n",
        "1 | 2022-11-01 12:34:56 | 192.0.112.0 | Login | /login | Success\n",
        "2 | 2022-11-01 12:35:12 | 192.0.112.0 | Request | /home | Success\n",
        "3 | 2022-11-01 12:36:23 | 192.0.112.0 | Request | /profile | Success\n",
        "4 | 2022-11-01 12:37:45 | 192.0.112.2 | Logout | /logout | Success\n",
        "5 | 2022-11-01 12:38:56 | 192.0.113.0 | Login | /login | Fail\n",
        "6 | 2022-11-01 12:39:12 | 192.0.113.1 | Request | /home | Fail\n",
        "\"\"\"\n",
        "\n",
        "# Type your code below\n"
      ]
    },
    {
      "cell_type": "markdown",
      "metadata": {
        "id": "zcOzk1VYhVpQ"
      },
      "source": [
        "<hr/>\n",
        "Last update 2023-07-04 by Sumudu Tennakoon\n",
        "\n",
        "<a rel=\"license\" href=\"http://creativecommons.org/licenses/by-nc-sa/4.0/\"><img alt=\"Creative Commons License\" style=\"border-width:0\" src=\"https://i.creativecommons.org/l/by-nc-sa/4.0/88x31.png\" /></a><br />This work is licensed under a <a rel=\"license\" href=\"http://creativecommons.org/licenses/by-nc-sa/4.0/\">Creative Commons Attribution-NonCommercial-ShareAlike 4.0 International License</a>."
      ]
    }
  ],
  "metadata": {
    "colab": {
      "provenance": []
    },
    "kernelspec": {
      "display_name": "Python 3",
      "name": "python3"
    },
    "language_info": {
      "codemirror_mode": {
        "name": "ipython",
        "version": 3
      },
      "file_extension": ".py",
      "mimetype": "text/x-python",
      "name": "python",
      "nbconvert_exporter": "python",
      "pygments_lexer": "ipython3",
      "version": "3.10.11"
    }
  },
  "nbformat": 4,
  "nbformat_minor": 0
}
