{
  "nbformat": 4,
  "nbformat_minor": 0,
  "metadata": {
    "colab": {
      "provenance": []
    },
    "kernelspec": {
      "name": "python3",
      "display_name": "Python 3"
    },
    "language_info": {
      "name": "python"
    }
  },
  "cells": [
    {
      "cell_type": "markdown",
      "source": [
        "\n",
        "# Building AI Applications with ChatGPT\n",
        "\n",
        "Sumudu Tennakoon, PhD\n",
        "<hr>\n",
        "\n",
        "# Introduction to Natural Language Processing with Python\n",
        "\n",
        "In this notebook we will explore some basic fetures on Python programing language for those who have a prior programing expereince.\n",
        "\n",
        "To learn more about Python, refeer to the following websites\n",
        "\n",
        "- Python : www.python.org\n",
        "\n",
        "To learn more about the Python packages we explore in this notebook, refer to the following websites\n",
        "\n",
        "- NLTK : www.nltk.org\n",
        "- spaCy : https://spacy.io\n"
      ],
      "metadata": {
        "id": "80YnPM-vhaCm"
      }
    },
    {
      "cell_type": "markdown",
      "source": [
        "# Python Strings and Lists"
      ],
      "metadata": {
        "id": "yexZBDVRcHBA"
      }
    },
    {
      "cell_type": "code",
      "source": [
        "# String\n",
        "text = \"Hello my friend! How are you?\"\n",
        "\n",
        "print(text)"
      ],
      "metadata": {
        "colab": {
          "base_uri": "https://localhost:8080/"
        },
        "id": "_WDu4H38cRuo",
        "outputId": "c2cba806-b513-4b0c-ac50-3af0be4afd3d"
      },
      "execution_count": 53,
      "outputs": [
        {
          "output_type": "stream",
          "name": "stdout",
          "text": [
            "Hello my friend! How are you?\n"
          ]
        }
      ]
    },
    {
      "cell_type": "code",
      "source": [
        "len(text)"
      ],
      "metadata": {
        "colab": {
          "base_uri": "https://localhost:8080/"
        },
        "id": "hW-hIaBMjb-v",
        "outputId": "eccd7042-c14e-493e-a567-e697e3da1fc5"
      },
      "execution_count": 54,
      "outputs": [
        {
          "output_type": "execute_result",
          "data": {
            "text/plain": [
              "29"
            ]
          },
          "metadata": {},
          "execution_count": 54
        }
      ]
    },
    {
      "cell_type": "code",
      "source": [
        "text[1]"
      ],
      "metadata": {
        "colab": {
          "base_uri": "https://localhost:8080/",
          "height": 35
        },
        "id": "uYTLhvU3jd7q",
        "outputId": "20c01332-383d-491b-e726-ed0df188b751"
      },
      "execution_count": 55,
      "outputs": [
        {
          "output_type": "execute_result",
          "data": {
            "text/plain": [
              "'e'"
            ],
            "application/vnd.google.colaboratory.intrinsic+json": {
              "type": "string"
            }
          },
          "metadata": {},
          "execution_count": 55
        }
      ]
    },
    {
      "cell_type": "code",
      "source": [
        "# List\n",
        "word_list = [\"Hello\", \"my\", \"friend\", \"How\", \"are\", \"you\"]\n",
        "\n",
        "print(word_list)"
      ],
      "metadata": {
        "colab": {
          "base_uri": "https://localhost:8080/"
        },
        "id": "bch4yusUcpNf",
        "outputId": "10eb7e71-590f-493a-a652-1ce0cdd4f42e"
      },
      "execution_count": 57,
      "outputs": [
        {
          "output_type": "stream",
          "name": "stdout",
          "text": [
            "['Hello', 'my', 'friend', 'How', 'are', 'you']\n"
          ]
        }
      ]
    },
    {
      "cell_type": "code",
      "source": [
        "word_list.count('my')"
      ],
      "metadata": {
        "colab": {
          "base_uri": "https://localhost:8080/"
        },
        "id": "68CXzGRFjreo",
        "outputId": "fa4a7ea9-63b9-4fda-8bc4-3d936a50c321"
      },
      "execution_count": 58,
      "outputs": [
        {
          "output_type": "execute_result",
          "data": {
            "text/plain": [
              "1"
            ]
          },
          "metadata": {},
          "execution_count": 58
        }
      ]
    },
    {
      "cell_type": "code",
      "source": [
        "# Count items\n",
        "word_count = len(word_list)\n",
        "print(word_count)"
      ],
      "metadata": {
        "colab": {
          "base_uri": "https://localhost:8080/"
        },
        "id": "uo7A2jiscsu6",
        "outputId": "b9ee80ad-d7ec-46cc-dd06-8f157acfcae9"
      },
      "execution_count": 14,
      "outputs": [
        {
          "output_type": "stream",
          "name": "stdout",
          "text": [
            "3\n"
          ]
        }
      ]
    },
    {
      "cell_type": "code",
      "source": [
        "# Check if item exists\n",
        "\n",
        "\"my\" in word_list"
      ],
      "metadata": {
        "colab": {
          "base_uri": "https://localhost:8080/"
        },
        "id": "ShADoMaYc7qH",
        "outputId": "231bb8ce-2c6c-403c-89c9-0ab93ef2ae90"
      },
      "execution_count": 15,
      "outputs": [
        {
          "output_type": "execute_result",
          "data": {
            "text/plain": [
              "True"
            ]
          },
          "metadata": {},
          "execution_count": 15
        }
      ]
    },
    {
      "cell_type": "code",
      "source": [
        "\"my\" in text"
      ],
      "metadata": {
        "colab": {
          "base_uri": "https://localhost:8080/"
        },
        "id": "tjei9k8Yc7vD",
        "outputId": "36ddd017-027f-4417-9130-902e9cb9097c"
      },
      "execution_count": 17,
      "outputs": [
        {
          "output_type": "execute_result",
          "data": {
            "text/plain": [
              "True"
            ]
          },
          "metadata": {},
          "execution_count": 17
        }
      ]
    },
    {
      "cell_type": "code",
      "source": [
        "\"!\" in text"
      ],
      "metadata": {
        "colab": {
          "base_uri": "https://localhost:8080/"
        },
        "id": "ip8WHX2qc2UJ",
        "outputId": "29f9deff-ba38-4e02-9f0d-3e0ae35894a6"
      },
      "execution_count": 18,
      "outputs": [
        {
          "output_type": "execute_result",
          "data": {
            "text/plain": [
              "True"
            ]
          },
          "metadata": {},
          "execution_count": 18
        }
      ]
    },
    {
      "cell_type": "code",
      "source": [
        "\"?\" in text"
      ],
      "metadata": {
        "colab": {
          "base_uri": "https://localhost:8080/"
        },
        "id": "lRVT9vZGdTAD",
        "outputId": "0f6ba4db-d346-47d6-abfe-f14a24fb50e2"
      },
      "execution_count": 19,
      "outputs": [
        {
          "output_type": "execute_result",
          "data": {
            "text/plain": [
              "False"
            ]
          },
          "metadata": {},
          "execution_count": 19
        }
      ]
    },
    {
      "cell_type": "code",
      "source": [
        "text = \"Hello my friend! How are you?\"\n",
        "\n",
        "text.count('H')"
      ],
      "metadata": {
        "colab": {
          "base_uri": "https://localhost:8080/"
        },
        "id": "7vCTXh-TjWCj",
        "outputId": "c671e3da-23d2-4757-c7d3-3ed2fcf54e8c"
      },
      "execution_count": 48,
      "outputs": [
        {
          "output_type": "execute_result",
          "data": {
            "text/plain": [
              "2"
            ]
          },
          "metadata": {},
          "execution_count": 48
        }
      ]
    },
    {
      "cell_type": "markdown",
      "source": [
        "# Text to Analyze"
      ],
      "metadata": {
        "id": "Ujcg683oa_Gu"
      }
    },
    {
      "cell_type": "code",
      "execution_count": 2,
      "metadata": {
        "colab": {
          "base_uri": "https://localhost:8080/"
        },
        "id": "g0pbmajSa0UK",
        "outputId": "21155bf2-e263-4455-aee9-3c10d4c40e12"
      },
      "outputs": [
        {
          "output_type": "stream",
          "name": "stdout",
          "text": [
            "Albert Einstein was born in Ulm, Germany, on 14 March 1879. His parents, secular Ashkenazi Jews, were Hermann Einstein, a salesman and engineer, and Pauline Koch. In 1880, the family moved to Munich, where Einstein's father and his uncle Jakob founded Elektrotechnische Fabrik J. Einstein & Cie, a company that manufactured electrical equipment based on direct current.\n"
          ]
        }
      ],
      "source": [
        "text = \"Albert Einstein was born in Ulm, Germany, on 14 March 1879. His parents, \\\n",
        "secular Ashkenazi Jews, were Hermann Einstein, a salesman and engineer, and Pauline \\\n",
        "Koch. In 1880, the family moved to Munich, where Einstein's father and his uncle \\\n",
        "Jakob founded Elektrotechnische Fabrik J. Einstein & Cie, a company that manufactured \\\n",
        "electrical equipment based on direct current.\"\n",
        "\n",
        "print(text)"
      ]
    },
    {
      "cell_type": "markdown",
      "source": [
        "# Sentence Split"
      ],
      "metadata": {
        "id": "Jnw1Hbbgbv0_"
      }
    },
    {
      "cell_type": "code",
      "source": [
        "sentences = text.split('.')\n",
        "\n",
        "print(sentences)"
      ],
      "metadata": {
        "colab": {
          "base_uri": "https://localhost:8080/"
        },
        "id": "tnpDIMB6bsEk",
        "outputId": "d2cfa05c-fc9e-4740-f711-abd3ad5aebc0"
      },
      "execution_count": 5,
      "outputs": [
        {
          "output_type": "stream",
          "name": "stdout",
          "text": [
            "['Albert Einstein was born in Ulm, Germany, on 14 March 1879', ' His parents, secular Ashkenazi Jews, were Hermann Einstein, a salesman and engineer, and Pauline Koch', \" In 1880, the family moved to Munich, where Einstein's father and his uncle Jakob founded Elektrotechnische Fabrik J\", ' Einstein & Cie, a company that manufactured electrical equipment based on direct current', '']\n"
          ]
        }
      ]
    },
    {
      "cell_type": "markdown",
      "source": [
        "# Word Split"
      ],
      "metadata": {
        "id": "90sQ9iBvb2VC"
      }
    },
    {
      "cell_type": "code",
      "source": [
        "sentence = sentences[0]\n",
        "print(sentence)\n",
        "\n",
        "words = sentence.split()\n",
        "print(words)"
      ],
      "metadata": {
        "colab": {
          "base_uri": "https://localhost:8080/"
        },
        "id": "WagB4LJwbWAT",
        "outputId": "fedc25af-cb5b-4aa1-9d05-8800214733fa"
      },
      "execution_count": 8,
      "outputs": [
        {
          "output_type": "stream",
          "name": "stdout",
          "text": [
            "Albert Einstein was born in Ulm, Germany, on 14 March 1879\n",
            "['Albert', 'Einstein', 'was', 'born', 'in', 'Ulm,', 'Germany,', 'on', '14', 'March', '1879']\n"
          ]
        }
      ]
    },
    {
      "cell_type": "markdown",
      "source": [
        "# NLTK"
      ],
      "metadata": {
        "id": "YBgEjCOldfzf"
      }
    },
    {
      "cell_type": "code",
      "source": [
        "text = \"Albert Einstein was born in Ulm, Germany, on 14 March 1879. His parents, \\\n",
        "secular Ashkenazi Jews, were Hermann Einstein, a salesman and engineer, and Pauline \\\n",
        "Koch. In 1880, the family moved to Munich, where Einstein's father and his uncle \\\n",
        "Jakob founded Elektrotechnische Fabrik J. Einstein & Cie, a company that manufactured \\\n",
        "electrical equipment based on direct current.\"\n",
        "\n",
        "print(text)"
      ],
      "metadata": {
        "colab": {
          "base_uri": "https://localhost:8080/"
        },
        "id": "HWJ1ly1idpSq",
        "outputId": "63d1f680-c4e7-4f8c-eb53-b3e141351b3f"
      },
      "execution_count": 20,
      "outputs": [
        {
          "output_type": "stream",
          "name": "stdout",
          "text": [
            "Albert Einstein was born in Ulm, Germany, on 14 March 1879. His parents, secular Ashkenazi Jews, were Hermann Einstein, a salesman and engineer, and Pauline Koch. In 1880, the family moved to Munich, where Einstein's father and his uncle Jakob founded Elektrotechnische Fabrik J. Einstein & Cie, a company that manufactured electrical equipment based on direct current.\n"
          ]
        }
      ]
    },
    {
      "cell_type": "markdown",
      "source": [
        "## Tokenization"
      ],
      "metadata": {
        "id": "-UTBmzl2eZsI"
      }
    },
    {
      "cell_type": "code",
      "source": [
        "import nltk\n",
        "nltk.download('punkt')"
      ],
      "metadata": {
        "colab": {
          "base_uri": "https://localhost:8080/"
        },
        "id": "YC04y-gedi51",
        "outputId": "17bc8a3d-8660-40ac-99f8-abd69e4e4d12"
      },
      "execution_count": 21,
      "outputs": [
        {
          "output_type": "stream",
          "name": "stderr",
          "text": [
            "[nltk_data] Downloading package punkt to /root/nltk_data...\n",
            "[nltk_data]   Unzipping tokenizers/punkt.zip.\n"
          ]
        },
        {
          "output_type": "execute_result",
          "data": {
            "text/plain": [
              "True"
            ]
          },
          "metadata": {},
          "execution_count": 21
        }
      ]
    },
    {
      "cell_type": "code",
      "source": [
        "sentences = nltk.sent_tokenize(text)\n",
        "print(sentences)"
      ],
      "metadata": {
        "colab": {
          "base_uri": "https://localhost:8080/"
        },
        "id": "TlJaKiSudmq5",
        "outputId": "39e306c7-7b3f-4246-83b1-761c7a863a1e"
      },
      "execution_count": 22,
      "outputs": [
        {
          "output_type": "stream",
          "name": "stdout",
          "text": [
            "['Albert Einstein was born in Ulm, Germany, on 14 March 1879.', 'His parents, secular Ashkenazi Jews, were Hermann Einstein, a salesman and engineer, and Pauline Koch.', \"In 1880, the family moved to Munich, where Einstein's father and his uncle Jakob founded Elektrotechnische Fabrik J. Einstein & Cie, a company that manufactured electrical equipment based on direct current.\"]\n"
          ]
        }
      ]
    },
    {
      "cell_type": "code",
      "source": [
        "word_tokens = nltk.word_tokenize(sentences[0])\n",
        "print(word_tokens)"
      ],
      "metadata": {
        "colab": {
          "base_uri": "https://localhost:8080/"
        },
        "id": "_bVv1yUmdqyg",
        "outputId": "02a944cb-6f19-4d73-98bc-20f3ffd8fbf0"
      },
      "execution_count": 24,
      "outputs": [
        {
          "output_type": "stream",
          "name": "stdout",
          "text": [
            "['Albert', 'Einstein', 'was', 'born', 'in', 'Ulm', ',', 'Germany', ',', 'on', '14', 'March', '1879', '.']\n"
          ]
        }
      ]
    },
    {
      "cell_type": "markdown",
      "source": [
        "## Remove Stopwords"
      ],
      "metadata": {
        "id": "53HLLdJBeWgt"
      }
    },
    {
      "cell_type": "code",
      "source": [
        "nltk.download('stopwords')\n",
        "stop_words = set(nltk.corpus.stopwords.words('english'))\n",
        "print(stop_words)"
      ],
      "metadata": {
        "colab": {
          "base_uri": "https://localhost:8080/"
        },
        "id": "HKa84SE-duwI",
        "outputId": "62d42990-d75d-45cb-9abd-a92cd64a29ae"
      },
      "execution_count": 25,
      "outputs": [
        {
          "output_type": "stream",
          "name": "stdout",
          "text": [
            "{'aren', 't', 'me', 'such', 'd', 'can', 'couldn', 'only', \"doesn't\", 'all', 'during', 'is', 'over', \"you're\", 'his', \"aren't\", 'wasn', 'and', 'with', 'about', 'ain', 'wouldn', 'or', 'any', 'few', 'own', 'these', 'into', \"you'd\", 'am', 'below', 'their', 'once', 'for', 'against', 'did', 'i', 'hasn', 've', 'under', \"won't\", 'down', 'those', \"that'll\", 'have', 'from', 'each', 'how', \"it's\", 'its', 'he', 'so', 'a', 'if', 'we', 'will', 'the', \"wouldn't\", 'ma', 'while', 'be', 'off', 'than', 'as', \"couldn't\", 'in', 'her', \"wasn't\", 'my', 'through', 'themselves', 'do', 'now', \"weren't\", 'haven', \"you've\", 'at', 'won', 'until', \"shouldn't\", 'ourselves', 'didn', 'other', 'needn', 'again', 'o', 'being', 'of', 'y', 'who', 'above', 'doesn', 'most', 'after', 'there', 'herself', 'our', 'your', 'they', 'out', 'hadn', \"mustn't\", 'which', 'by', 'too', 'not', 'yourself', 'where', 'you', \"don't\", \"didn't\", 'having', \"shan't\", 'very', 'nor', 'same', 'itself', 'should', 'himself', 'here', 'an', 'isn', \"hadn't\", \"should've\", 'mustn', 'had', 'yourselves', \"hasn't\", 's', 'll', 'yours', 'both', 'whom', 'hers', \"mightn't\", 'been', 'doing', 'just', 'theirs', 'them', 'was', 'on', 'it', 'don', 'because', 'why', 're', \"you'll\", 'when', 'some', 'weren', 'to', 'shan', 'before', 'does', 'ours', \"haven't\", 'she', 'more', 'this', 'between', 'what', 'him', 'up', 'has', 'no', \"isn't\", 'then', 'further', \"needn't\", 'm', 'shouldn', \"she's\", 'that', 'mightn', 'are', 'but', 'myself', 'were'}\n"
          ]
        },
        {
          "output_type": "stream",
          "name": "stderr",
          "text": [
            "[nltk_data] Downloading package stopwords to /root/nltk_data...\n",
            "[nltk_data]   Unzipping corpora/stopwords.zip.\n"
          ]
        }
      ]
    },
    {
      "cell_type": "code",
      "source": [
        "import string\n",
        "punctuations = set(string.punctuation)\n",
        "print(punctuations)"
      ],
      "metadata": {
        "colab": {
          "base_uri": "https://localhost:8080/"
        },
        "id": "baIFAs3od3Wt",
        "outputId": "e3ec4c46-280d-45d1-f1da-d3e3ee0f96a5"
      },
      "execution_count": 26,
      "outputs": [
        {
          "output_type": "stream",
          "name": "stdout",
          "text": [
            "{'<', '/', '>', '\\\\', ']', '!', '#', '_', '.', '*', ';', '^', '(', \"'\", ',', '[', '\"', '?', '|', ':', '}', '{', '`', '&', ')', '=', '$', '+', '~', '@', '-', '%'}\n"
          ]
        }
      ]
    },
    {
      "cell_type": "code",
      "source": [
        "exclude_tokens = stop_words.union(punctuations)\n",
        "print(exclude_tokens)"
      ],
      "metadata": {
        "colab": {
          "base_uri": "https://localhost:8080/"
        },
        "id": "CnsjvIp5d64E",
        "outputId": "0fd7f187-6506-4773-9bb5-eeb9770e21bd"
      },
      "execution_count": 27,
      "outputs": [
        {
          "output_type": "stream",
          "name": "stdout",
          "text": [
            "{'aren', 't', 'me', 'such', 'd', 'can', 'couldn', 'only', '<', '/', '>', \"doesn't\", 'all', 'during', 'is', 'over', \"you're\", 'his', \"aren't\", 'wasn', 'and', 'with', 'about', 'ain', '*', 'wouldn', 'or', 'any', 'few', '^', '(', 'own', ',', 'these', 'into', \"you'd\", 'am', '\"', 'below', 'their', 'once', 'for', 'against', 'did', 'i', 'hasn', 've', 'under', ')', \"won't\", '+', 'down', 'those', '@', \"that'll\", 'have', 'from', 'each', 'how', \"it's\", 'its', 'he', 'so', '~', 'a', 'if', 'we', 'will', 'the', \"wouldn't\", '\\\\', 'ma', '_', 'while', 'be', 'off', 'than', 'as', \"couldn't\", 'in', 'her', '?', \"wasn't\", 'my', 'through', 'themselves', 'do', '`', '&', 'now', \"weren't\", 'haven', \"you've\", 'at', 'won', 'until', \"shouldn't\", 'ourselves', 'didn', 'other', '%', 'needn', 'again', 'o', 'being', 'of', 'y', 'who', 'above', 'doesn', 'most', 'after', 'there', 'herself', 'our', 'your', 'they', '.', 'out', 'hadn', \"mustn't\", 'which', 'by', 'too', 'not', 'yourself', 'where', '[', 'you', \"don't\", \"didn't\", 'having', \"shan't\", 'very', '}', 'nor', '{', 'same', 'itself', 'should', 'himself', 'here', 'an', 'isn', \"hadn't\", \"should've\", 'mustn', '-', 'had', 'yourselves', \"hasn't\", 's', 'll', 'yours', 'both', 'whom', 'hers', \"mightn't\", 'been', 'doing', 'just', 'theirs', ']', '!', 'them', 'was', 'on', '#', 'it', 'don', 'because', 'why', 're', \"you'll\", 'when', 'some', 'weren', ';', 'to', 'shan', \"'\", 'before', 'does', 'ours', \"haven't\", 'she', 'more', '|', 'this', 'between', ':', 'what', 'him', 'up', 'has', 'no', \"isn't\", 'then', 'further', \"needn't\", 'm', 'shouldn', '=', \"she's\", 'that', 'mightn', 'are', '$', 'but', 'myself', 'were'}\n"
          ]
        }
      ]
    },
    {
      "cell_type": "code",
      "source": [
        "filtered_word_tokens = [w for w in word_tokens if not w.lower() in exclude_tokens]\n",
        "print(filtered_word_tokens)"
      ],
      "metadata": {
        "colab": {
          "base_uri": "https://localhost:8080/"
        },
        "id": "cP5SoMsld7eA",
        "outputId": "b3afda81-00aa-48d5-d73f-7123f39789e6"
      },
      "execution_count": 28,
      "outputs": [
        {
          "output_type": "stream",
          "name": "stdout",
          "text": [
            "['Albert', 'Einstein', 'born', 'Ulm', 'Germany', '14', 'March', '1879']\n"
          ]
        }
      ]
    },
    {
      "cell_type": "markdown",
      "source": [
        "## Stemming"
      ],
      "metadata": {
        "id": "GNwHqdxLeCRv"
      }
    },
    {
      "cell_type": "code",
      "source": [
        "from nltk.stem import PorterStemmer\n",
        "ps = PorterStemmer()"
      ],
      "metadata": {
        "id": "FOmYfkPEd-wi"
      },
      "execution_count": 32,
      "outputs": []
    },
    {
      "cell_type": "code",
      "source": [
        "for w in filtered_word_tokens:\n",
        "    print(w, \" -> \", ps.stem(w))"
      ],
      "metadata": {
        "colab": {
          "base_uri": "https://localhost:8080/"
        },
        "id": "16pE2GRSegEC",
        "outputId": "cbd83543-402c-4157-a62e-64f04d78dc0d"
      },
      "execution_count": 33,
      "outputs": [
        {
          "output_type": "stream",
          "name": "stdout",
          "text": [
            "Albert  ->  albert\n",
            "Einstein  ->  einstein\n",
            "born  ->  born\n",
            "Ulm  ->  ulm\n",
            "Germany  ->  germani\n",
            "14  ->  14\n",
            "March  ->  march\n",
            "1879  ->  1879\n"
          ]
        }
      ]
    },
    {
      "cell_type": "code",
      "source": [
        "example_words = [\"walk\", \"walked\", \"walks\", \"walking\"]\n",
        "for w in example_words:\n",
        "    print(w, \" -> \", ps.stem(w))"
      ],
      "metadata": {
        "colab": {
          "base_uri": "https://localhost:8080/"
        },
        "id": "koadK3R0eGfC",
        "outputId": "347cb973-60f8-441c-b198-c7d8b14e91aa"
      },
      "execution_count": 34,
      "outputs": [
        {
          "output_type": "stream",
          "name": "stdout",
          "text": [
            "walk  ->  walk\n",
            "walked  ->  walk\n",
            "walks  ->  walk\n",
            "walking  ->  walk\n"
          ]
        }
      ]
    },
    {
      "cell_type": "markdown",
      "source": [
        "## Part of Speech Tagging"
      ],
      "metadata": {
        "id": "KYuAEKRZePWP"
      }
    },
    {
      "cell_type": "code",
      "source": [
        "from nltk import pos_tag\n",
        "nltk.download('averaged_perceptron_tagger')"
      ],
      "metadata": {
        "colab": {
          "base_uri": "https://localhost:8080/"
        },
        "id": "IGlRVlgYeMjM",
        "outputId": "cabb2c6e-b3cf-41d3-9d18-2d04ab2c7bf2"
      },
      "execution_count": 31,
      "outputs": [
        {
          "output_type": "stream",
          "name": "stderr",
          "text": [
            "[nltk_data] Downloading package averaged_perceptron_tagger to\n",
            "[nltk_data]     /root/nltk_data...\n",
            "[nltk_data]   Unzipping taggers/averaged_perceptron_tagger.zip.\n"
          ]
        },
        {
          "output_type": "execute_result",
          "data": {
            "text/plain": [
              "True"
            ]
          },
          "metadata": {},
          "execution_count": 31
        }
      ]
    },
    {
      "cell_type": "code",
      "source": [
        "filtered_word_tokens_pos = pos_tag(filtered_word_tokens)\n",
        "print(filtered_word_tokens_pos)"
      ],
      "metadata": {
        "colab": {
          "base_uri": "https://localhost:8080/"
        },
        "id": "-pqbAlRAee12",
        "outputId": "b830c3e5-266a-4e18-cffa-4731af35bc49"
      },
      "execution_count": 35,
      "outputs": [
        {
          "output_type": "stream",
          "name": "stdout",
          "text": [
            "[('Albert', 'NNP'), ('Einstein', 'NNP'), ('born', 'VBD'), ('Ulm', 'NNP'), ('Germany', 'NNP'), ('14', 'CD'), ('March', 'NNP'), ('1879', 'CD')]\n"
          ]
        }
      ]
    },
    {
      "cell_type": "code",
      "source": [
        "nltk.download('tagsets')\n",
        "print(nltk.help.upenn_tagset())"
      ],
      "metadata": {
        "colab": {
          "base_uri": "https://localhost:8080/"
        },
        "id": "xnIlpCA3ekXz",
        "outputId": "9e7d3920-032b-4e41-c09f-a68c34cf35e8"
      },
      "execution_count": 37,
      "outputs": [
        {
          "output_type": "stream",
          "name": "stderr",
          "text": [
            "[nltk_data] Downloading package tagsets to /root/nltk_data...\n"
          ]
        },
        {
          "output_type": "stream",
          "name": "stdout",
          "text": [
            "$: dollar\n",
            "    $ -$ --$ A$ C$ HK$ M$ NZ$ S$ U.S.$ US$\n",
            "'': closing quotation mark\n",
            "    ' ''\n",
            "(: opening parenthesis\n",
            "    ( [ {\n",
            "): closing parenthesis\n",
            "    ) ] }\n",
            ",: comma\n",
            "    ,\n",
            "--: dash\n",
            "    --\n",
            ".: sentence terminator\n",
            "    . ! ?\n",
            ":: colon or ellipsis\n",
            "    : ; ...\n",
            "CC: conjunction, coordinating\n",
            "    & 'n and both but either et for less minus neither nor or plus so\n",
            "    therefore times v. versus vs. whether yet\n",
            "CD: numeral, cardinal\n",
            "    mid-1890 nine-thirty forty-two one-tenth ten million 0.5 one forty-\n",
            "    seven 1987 twenty '79 zero two 78-degrees eighty-four IX '60s .025\n",
            "    fifteen 271,124 dozen quintillion DM2,000 ...\n",
            "DT: determiner\n",
            "    all an another any both del each either every half la many much nary\n",
            "    neither no some such that the them these this those\n",
            "EX: existential there\n",
            "    there\n",
            "FW: foreign word\n",
            "    gemeinschaft hund ich jeux habeas Haementeria Herr K'ang-si vous\n",
            "    lutihaw alai je jour objets salutaris fille quibusdam pas trop Monte\n",
            "    terram fiche oui corporis ...\n",
            "IN: preposition or conjunction, subordinating\n",
            "    astride among uppon whether out inside pro despite on by throughout\n",
            "    below within for towards near behind atop around if like until below\n",
            "    next into if beside ...\n",
            "JJ: adjective or numeral, ordinal\n",
            "    third ill-mannered pre-war regrettable oiled calamitous first separable\n",
            "    ectoplasmic battery-powered participatory fourth still-to-be-named\n",
            "    multilingual multi-disciplinary ...\n",
            "JJR: adjective, comparative\n",
            "    bleaker braver breezier briefer brighter brisker broader bumper busier\n",
            "    calmer cheaper choosier cleaner clearer closer colder commoner costlier\n",
            "    cozier creamier crunchier cuter ...\n",
            "JJS: adjective, superlative\n",
            "    calmest cheapest choicest classiest cleanest clearest closest commonest\n",
            "    corniest costliest crassest creepiest crudest cutest darkest deadliest\n",
            "    dearest deepest densest dinkiest ...\n",
            "LS: list item marker\n",
            "    A A. B B. C C. D E F First G H I J K One SP-44001 SP-44002 SP-44005\n",
            "    SP-44007 Second Third Three Two * a b c d first five four one six three\n",
            "    two\n",
            "MD: modal auxiliary\n",
            "    can cannot could couldn't dare may might must need ought shall should\n",
            "    shouldn't will would\n",
            "NN: noun, common, singular or mass\n",
            "    common-carrier cabbage knuckle-duster Casino afghan shed thermostat\n",
            "    investment slide humour falloff slick wind hyena override subhumanity\n",
            "    machinist ...\n",
            "NNP: noun, proper, singular\n",
            "    Motown Venneboerger Czestochwa Ranzer Conchita Trumplane Christos\n",
            "    Oceanside Escobar Kreisler Sawyer Cougar Yvette Ervin ODI Darryl CTCA\n",
            "    Shannon A.K.C. Meltex Liverpool ...\n",
            "NNPS: noun, proper, plural\n",
            "    Americans Americas Amharas Amityvilles Amusements Anarcho-Syndicalists\n",
            "    Andalusians Andes Andruses Angels Animals Anthony Antilles Antiques\n",
            "    Apache Apaches Apocrypha ...\n",
            "NNS: noun, common, plural\n",
            "    undergraduates scotches bric-a-brac products bodyguards facets coasts\n",
            "    divestitures storehouses designs clubs fragrances averages\n",
            "    subjectivists apprehensions muses factory-jobs ...\n",
            "PDT: pre-determiner\n",
            "    all both half many quite such sure this\n",
            "POS: genitive marker\n",
            "    ' 's\n",
            "PRP: pronoun, personal\n",
            "    hers herself him himself hisself it itself me myself one oneself ours\n",
            "    ourselves ownself self she thee theirs them themselves they thou thy us\n",
            "PRP$: pronoun, possessive\n",
            "    her his mine my our ours their thy your\n",
            "RB: adverb\n",
            "    occasionally unabatingly maddeningly adventurously professedly\n",
            "    stirringly prominently technologically magisterially predominately\n",
            "    swiftly fiscally pitilessly ...\n",
            "RBR: adverb, comparative\n",
            "    further gloomier grander graver greater grimmer harder harsher\n",
            "    healthier heavier higher however larger later leaner lengthier less-\n",
            "    perfectly lesser lonelier longer louder lower more ...\n",
            "RBS: adverb, superlative\n",
            "    best biggest bluntest earliest farthest first furthest hardest\n",
            "    heartiest highest largest least less most nearest second tightest worst\n",
            "RP: particle\n",
            "    aboard about across along apart around aside at away back before behind\n",
            "    by crop down ever fast for forth from go high i.e. in into just later\n",
            "    low more off on open out over per pie raising start teeth that through\n",
            "    under unto up up-pp upon whole with you\n",
            "SYM: symbol\n",
            "    % & ' '' ''. ) ). * + ,. < = > @ A[fj] U.S U.S.S.R * ** ***\n",
            "TO: \"to\" as preposition or infinitive marker\n",
            "    to\n",
            "UH: interjection\n",
            "    Goodbye Goody Gosh Wow Jeepers Jee-sus Hubba Hey Kee-reist Oops amen\n",
            "    huh howdy uh dammit whammo shucks heck anyways whodunnit honey golly\n",
            "    man baby diddle hush sonuvabitch ...\n",
            "VB: verb, base form\n",
            "    ask assemble assess assign assume atone attention avoid bake balkanize\n",
            "    bank begin behold believe bend benefit bevel beware bless boil bomb\n",
            "    boost brace break bring broil brush build ...\n",
            "VBD: verb, past tense\n",
            "    dipped pleaded swiped regummed soaked tidied convened halted registered\n",
            "    cushioned exacted snubbed strode aimed adopted belied figgered\n",
            "    speculated wore appreciated contemplated ...\n",
            "VBG: verb, present participle or gerund\n",
            "    telegraphing stirring focusing angering judging stalling lactating\n",
            "    hankerin' alleging veering capping approaching traveling besieging\n",
            "    encrypting interrupting erasing wincing ...\n",
            "VBN: verb, past participle\n",
            "    multihulled dilapidated aerosolized chaired languished panelized used\n",
            "    experimented flourished imitated reunifed factored condensed sheared\n",
            "    unsettled primed dubbed desired ...\n",
            "VBP: verb, present tense, not 3rd person singular\n",
            "    predominate wrap resort sue twist spill cure lengthen brush terminate\n",
            "    appear tend stray glisten obtain comprise detest tease attract\n",
            "    emphasize mold postpone sever return wag ...\n",
            "VBZ: verb, present tense, 3rd person singular\n",
            "    bases reconstructs marks mixes displeases seals carps weaves snatches\n",
            "    slumps stretches authorizes smolders pictures emerges stockpiles\n",
            "    seduces fizzes uses bolsters slaps speaks pleads ...\n",
            "WDT: WH-determiner\n",
            "    that what whatever which whichever\n",
            "WP: WH-pronoun\n",
            "    that what whatever whatsoever which who whom whosoever\n",
            "WP$: WH-pronoun, possessive\n",
            "    whose\n",
            "WRB: Wh-adverb\n",
            "    how however whence whenever where whereby whereever wherein whereof why\n",
            "``: opening quotation mark\n",
            "    ` ``\n",
            "None\n"
          ]
        },
        {
          "output_type": "stream",
          "name": "stderr",
          "text": [
            "[nltk_data]   Unzipping help/tagsets.zip.\n"
          ]
        }
      ]
    },
    {
      "cell_type": "markdown",
      "source": [
        "# Lemmatization"
      ],
      "metadata": {
        "id": "WDLXy2xxez-B"
      }
    },
    {
      "cell_type": "code",
      "source": [
        "from nltk.stem import WordNetLemmatizer\n",
        "nltk.download('wordnet')\n",
        "from nltk.corpus import wordnet\n",
        "\n",
        "def get_wordnet_pos(treebank_tag):\n",
        "    if treebank_tag.startswith('J'):\n",
        "        return wordnet.ADJ\n",
        "    elif treebank_tag.startswith('V'):\n",
        "        return wordnet.VERB\n",
        "    elif treebank_tag.startswith('N'):\n",
        "        return wordnet.NOUN\n",
        "    elif treebank_tag.startswith('R'):\n",
        "        return wordnet.ADV\n",
        "    else:\n",
        "        return wordnet.NOUN\n",
        "\n",
        "lemmatizer = WordNetLemmatizer()"
      ],
      "metadata": {
        "colab": {
          "base_uri": "https://localhost:8080/"
        },
        "id": "Lip11p9Dentp",
        "outputId": "0694a34e-01c7-4335-d1f2-783befdc6265"
      },
      "execution_count": 38,
      "outputs": [
        {
          "output_type": "stream",
          "name": "stderr",
          "text": [
            "[nltk_data] Downloading package wordnet to /root/nltk_data...\n"
          ]
        }
      ]
    },
    {
      "cell_type": "code",
      "source": [
        "for w_pos in filtered_word_tokens_pos:\n",
        "    print(w_pos[0], \" -> \", lemmatizer.lemmatize(w_pos[0], get_wordnet_pos(w_pos[1])))"
      ],
      "metadata": {
        "colab": {
          "base_uri": "https://localhost:8080/"
        },
        "id": "KU567-GNe56a",
        "outputId": "71f1816b-ec1c-4dfa-9766-6a9438d9b67e"
      },
      "execution_count": 39,
      "outputs": [
        {
          "output_type": "stream",
          "name": "stdout",
          "text": [
            "Albert  ->  Albert\n",
            "Einstein  ->  Einstein\n",
            "born  ->  bear\n",
            "Ulm  ->  Ulm\n",
            "Germany  ->  Germany\n",
            "14  ->  14\n",
            "March  ->  March\n",
            "1879  ->  1879\n"
          ]
        }
      ]
    },
    {
      "cell_type": "markdown",
      "source": [
        "## Named Entity Recognition"
      ],
      "metadata": {
        "id": "u-KquAkdfM0D"
      }
    },
    {
      "cell_type": "code",
      "source": [
        "nltk.download('maxent_ne_chunker')\n",
        "nltk.download('words')"
      ],
      "metadata": {
        "colab": {
          "base_uri": "https://localhost:8080/"
        },
        "id": "9OrjV0GIe7FL",
        "outputId": "3aa85562-ec56-4865-a6c9-8d62f046cb53"
      },
      "execution_count": 40,
      "outputs": [
        {
          "output_type": "stream",
          "name": "stderr",
          "text": [
            "[nltk_data] Downloading package maxent_ne_chunker to\n",
            "[nltk_data]     /root/nltk_data...\n",
            "[nltk_data]   Unzipping chunkers/maxent_ne_chunker.zip.\n",
            "[nltk_data] Downloading package words to /root/nltk_data...\n",
            "[nltk_data]   Unzipping corpora/words.zip.\n"
          ]
        },
        {
          "output_type": "execute_result",
          "data": {
            "text/plain": [
              "True"
            ]
          },
          "metadata": {},
          "execution_count": 40
        }
      ]
    },
    {
      "cell_type": "code",
      "source": [
        "ner = nltk.ne_chunk(filtered_word_tokens_pos)\n",
        "print(ner)"
      ],
      "metadata": {
        "colab": {
          "base_uri": "https://localhost:8080/"
        },
        "id": "jHF3Yq-WfzxM",
        "outputId": "264ee6ce-f44e-4595-ad84-09d34f0a1bdc"
      },
      "execution_count": 41,
      "outputs": [
        {
          "output_type": "stream",
          "name": "stdout",
          "text": [
            "(S\n",
            "  (PERSON Albert/NNP)\n",
            "  (PERSON Einstein/NNP)\n",
            "  born/VBD\n",
            "  (PERSON Ulm/NNP Germany/NNP)\n",
            "  14/CD\n",
            "  March/NNP\n",
            "  1879/CD)\n"
          ]
        }
      ]
    },
    {
      "cell_type": "code",
      "source": [
        "example_sentence = \"Albert Einstein was born in Ulm, Germany, on 14 March 1879.\"\n",
        "\n",
        "# Tokenize the sentence\n",
        "tokens = nltk.word_tokenize(sentence)\n",
        "\n",
        "# Perform POS tagging\n",
        "tagged = nltk.pos_tag(tokens)\n",
        "\n",
        "# Perform named entity recognition\n",
        "ner = nltk.chunk.ne_chunk(tagged)\n",
        "\n",
        "# Print the named entities\n",
        "print(ner)"
      ],
      "metadata": {
        "colab": {
          "base_uri": "https://localhost:8080/"
        },
        "id": "r4z-oQB1f1gM",
        "outputId": "2b530c86-14e3-4426-84d8-b59ece7cd790"
      },
      "execution_count": 42,
      "outputs": [
        {
          "output_type": "stream",
          "name": "stdout",
          "text": [
            "(S\n",
            "  (PERSON Albert/NNP)\n",
            "  (PERSON Einstein/NNP)\n",
            "  was/VBD\n",
            "  born/VBN\n",
            "  in/IN\n",
            "  (GPE Ulm/NNP)\n",
            "  ,/,\n",
            "  (GPE Germany/NNP)\n",
            "  ,/,\n",
            "  on/IN\n",
            "  14/CD\n",
            "  March/NNP\n",
            "  1879/CD)\n"
          ]
        }
      ]
    },
    {
      "cell_type": "markdown",
      "source": [
        "# Named Entity Recognition with spaCy"
      ],
      "metadata": {
        "id": "Kki_RbpwgFeq"
      }
    },
    {
      "cell_type": "code",
      "source": [
        "import spacy\n",
        "\n",
        "example_sentence = \"Albert Einstein was born in Ulm, Germany, on 14 March 1879.\"\n",
        "\n",
        "nlp = spacy.load(\"en_core_web_sm\")\n",
        "doc = nlp(example_sentence)\n",
        "\n",
        "for ent in doc.ents:\n",
        "    print(ent.text, ent.start_char, ent.end_char, ent.label_)\n"
      ],
      "metadata": {
        "colab": {
          "base_uri": "https://localhost:8080/"
        },
        "id": "6YNAKGrkf_11",
        "outputId": "f0c31c35-8b16-4c0a-e120-406e7bca8528"
      },
      "execution_count": 45,
      "outputs": [
        {
          "output_type": "stream",
          "name": "stdout",
          "text": [
            "Albert Einstein 0 15 PERSON\n",
            "Ulm 28 31 GPE\n",
            "Germany 33 40 GPE\n",
            "14 March 1879 45 58 DATE\n"
          ]
        }
      ]
    },
    {
      "cell_type": "markdown",
      "source": [
        "<hr/>\n",
        "Last update 2023-07-04 by Sumudu Tennakoon\n",
        "\n",
        "<a rel=\"license\" href=\"http://creativecommons.org/licenses/by-nc-sa/4.0/\"><img alt=\"Creative Commons License\" style=\"border-width:0\" src=\"https://i.creativecommons.org/l/by-nc-sa/4.0/88x31.png\" /></a><br />This work is licensed under a <a rel=\"license\" href=\"http://creativecommons.org/licenses/by-nc-sa/4.0/\">Creative Commons Attribution-NonCommercial-ShareAlike 4.0 International License</a>."
      ],
      "metadata": {
        "id": "zcOzk1VYhVpQ"
      }
    }
  ]
}