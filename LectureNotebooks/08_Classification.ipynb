{
 "cells": [
  {
   "cell_type": "markdown",
   "metadata": {},
   "source": [
    "# Building AI Applications with ChatGPT\n",
    "\n",
    "Sumudu Tennakoon, PhD\n",
    "<hr>\n",
    "\n",
    "# Classification Tasks\n",
    "\n",
    "In this notebook we will explore some basic fetures on Python programing language for those who have a prior programing expereince.\n",
    "\n",
    "To learn more about Python, refeer to the following websites\n",
    "\n",
    "- Python : https://www.python.org\n",
    "\n",
    "To learn more about the Python packages we explore in this notebook, refer to the following websites\n",
    "\n",
    "- OpenAI API : https://platform.openai.com/docs/api-reference\n"
   ]
  },
  {
   "cell_type": "markdown",
   "metadata": {},
   "source": [
    "### Python Library Installation\n",
    "\n",
    "* Run below code cell to install required libraries before you continue. Ignore that if you already installed them."
   ]
  },
  {
   "cell_type": "code",
   "execution_count": 1,
   "metadata": {},
   "outputs": [],
   "source": [
    "#!pip install openai"
   ]
  },
  {
   "cell_type": "code",
   "execution_count": 2,
   "metadata": {},
   "outputs": [],
   "source": [
    "import openai\n",
    "import configparser\n",
    "config = configparser.ConfigParser()\n",
    "config.read(r'../../../config.ini') #Change to your path or assign API Key to openai_api_key (not recomended for production)\n",
    "\n",
    "openai_api_key = config['SECRETS']['openai_api_key']"
   ]
  },
  {
   "cell_type": "markdown",
   "metadata": {},
   "source": [
    "## Classify Given List of Items"
   ]
  },
  {
   "cell_type": "code",
   "execution_count": 3,
   "metadata": {},
   "outputs": [
    {
     "name": "stdout",
     "output_type": "stream",
     "text": [
      "chat_response: {\n",
      "  \"Microsoft\": \"Technology\",\n",
      "  \"Facebook\": \"Technology\",\n",
      "  \"Fedex\": \"Logistics\",\n",
      "  \"UPS\": \"Logistics\",\n",
      "  \"Amazon\": \"E-commerce\",\n",
      "  \"Walmart\": \"Retail\",\n",
      "  \"Wholefoods\": \"Retail\",\n",
      "  \"Delta\": \"Airline\",\n",
      "  \"Toyota\": \"Automotive\",\n",
      "  \"Nvidia\": \"Technology\"\n",
      "}\n",
      "\n",
      "usage:{'completion_tokens': 81, 'prompt_tokens': 60, 'total_tokens': 141}\n"
     ]
    }
   ],
   "source": [
    "from openai import OpenAI\n",
    "client = OpenAI(api_key=openai_api_key)\n",
    "\n",
    "MODEL = \"gpt-3.5-turbo\"\n",
    "\n",
    "INSTRUCTIONS = r'Assign industry catergory to the list of company names given below. Give answer in JSON format as company_name as key and industry as value'\n",
    "\n",
    "text = \"Microsoft, Facebook, Fedex, UPS, Amazon, Walmart, Wholefoods, Delta, Toyota, Nvidia\"\n",
    "\n",
    "response = client.chat.completions.create(\n",
    "    model=MODEL,\n",
    "    messages=[\n",
    "        {\"role\": \"system\", \"content\": INSTRUCTIONS},\n",
    "        {\"role\": \"user\", \"content\": text},\n",
    "    ],\n",
    "    temperature=0,\n",
    "    max_tokens=1000,\n",
    ")\n",
    "\n",
    "chat_response = response.choices[0].message.content\n",
    "usage = response.usage.model_dump()\n",
    "\n",
    "print(F\"chat_response: {chat_response}\\n\\nusage:{usage}\")"
   ]
  },
  {
   "cell_type": "code",
   "execution_count": 4,
   "metadata": {},
   "outputs": [
    {
     "name": "stdout",
     "output_type": "stream",
     "text": [
      "chat_response: Entertainment\n",
      "\n",
      "usage:{'completion_tokens': 2, 'prompt_tokens': 55, 'total_tokens': 57}\n"
     ]
    }
   ],
   "source": [
    "from openai import OpenAI\n",
    "client = OpenAI(api_key=openai_api_key)\n",
    "\n",
    "MODEL = \"gpt-3.5-turbo\"\n",
    "\n",
    "INSTRUCTIONS = r'Classificy the given news headline into one of the categories from \\\n",
    "Grocery, Computer, Education, Sports, Entertainment, Celebrity, Politics, Business and Transportation.'\n",
    "\n",
    "text = \"Christopher Nolan returns with latest blockbuster 'Oppenheimer'\"\n",
    "\n",
    "response = client.chat.completions.create(\n",
    "    model=MODEL,\n",
    "    messages=[\n",
    "        {\"role\": \"system\", \"content\": INSTRUCTIONS},\n",
    "        {\"role\": \"user\", \"content\": text},\n",
    "    ],\n",
    "    temperature=0,\n",
    "    max_tokens=100,\n",
    ")\n",
    "\n",
    "chat_response = response.choices[0].message.content\n",
    "usage = response.usage.model_dump()\n",
    "\n",
    "print(F\"chat_response: {chat_response}\\n\\nusage:{usage}\")"
   ]
  },
  {
   "cell_type": "markdown",
   "metadata": {},
   "source": [
    "### Create News Headline Classification Function"
   ]
  },
  {
   "cell_type": "code",
   "execution_count": 5,
   "metadata": {},
   "outputs": [],
   "source": [
    "def classify_news_headline(text):\n",
    "    MODEL = \"gpt-3.5-turbo\"\n",
    "\n",
    "    INSTRUCTIONS = r'Classificy the given news headline into one of the categories from \\\n",
    "    Grocery, Computer, Education, Sports, Entertainment, Celebrity, Politics, Business and Transportation. If the news can be related to more than one categories give list of categories.'\n",
    "\n",
    "    response = client.chat.completions.create(\n",
    "        model=MODEL,\n",
    "        messages=[\n",
    "            {\"role\": \"system\", \"content\": INSTRUCTIONS},\n",
    "            {\"role\": \"user\", \"content\": text},\n",
    "        ],\n",
    "        temperature=0,\n",
    "        max_tokens=100,\n",
    "    )\n",
    "\n",
    "    chat_response = response.choices[0].message.content\n",
    "    usage = response.usage.model_dump()\n",
    "\n",
    "    return chat_response, usage"
   ]
  },
  {
   "cell_type": "code",
   "execution_count": 6,
   "metadata": {},
   "outputs": [
    {
     "name": "stdout",
     "output_type": "stream",
     "text": [
      "chat_response: Sports\n",
      "\n",
      "usage:{'completion_tokens': 1, 'prompt_tokens': 81, 'total_tokens': 82}\n"
     ]
    }
   ],
   "source": [
    "text = r\"Sri Lanka finish ODI WC qualifier with spotless record after bowlers script big win in the final\"\n",
    "\n",
    "chat_response, usage = classify_news_headline(text)\n",
    "\n",
    "print(F\"chat_response: {chat_response}\\n\\nusage:{usage}\")"
   ]
  },
  {
   "cell_type": "code",
   "execution_count": 7,
   "metadata": {},
   "outputs": [
    {
     "name": "stdout",
     "output_type": "stream",
     "text": [
      "chat_response: Politics, Health\n",
      "\n",
      "usage:{'completion_tokens': 3, 'prompt_tokens': 73, 'total_tokens': 76}\n"
     ]
    }
   ],
   "source": [
    "text = r\"China says respiratory illness cases are under control as Taiwan issues travel advisory\"\n",
    "\n",
    "chat_response, usage = classify_news_headline(text)\n",
    "\n",
    "print(F\"chat_response: {chat_response}\\n\\nusage:{usage}\")"
   ]
  },
  {
   "cell_type": "code",
   "execution_count": 8,
   "metadata": {},
   "outputs": [
    {
     "name": "stdout",
     "output_type": "stream",
     "text": [
      "chat_response: Categories: Business, Transportation\n",
      "\n",
      "usage:{'completion_tokens': 5, 'prompt_tokens': 79, 'total_tokens': 84}\n"
     ]
    }
   ],
   "source": [
    "text = r\"Tesla still holds top spot in EV market with 60% share, Hyundai inches into second place\"\n",
    "\n",
    "chat_response, usage = classify_news_headline(text)\n",
    "\n",
    "print(F\"chat_response: {chat_response}\\n\\nusage:{usage}\")"
   ]
  },
  {
   "cell_type": "markdown",
   "metadata": {},
   "source": [
    "<hr/>\n",
    "First Upload 2023-07-05 | Last update 2023-12-15 by Sumudu Tennakoon\n",
    "\n",
    "<a rel=\"license\" href=\"http://creativecommons.org/licenses/by-nc-sa/4.0/\"><img alt=\"Creative Commons License\" style=\"border-width:0\" src=\"https://i.creativecommons.org/l/by-nc-sa/4.0/88x31.png\" /></a><br />This work is licensed under a <a rel=\"license\" href=\"http://creativecommons.org/licenses/by-nc-sa/4.0/\">Creative Commons Attribution-NonCommercial-ShareAlike 4.0 International License</a>."
   ]
  }
 ],
 "metadata": {
  "kernelspec": {
   "display_name": ".venv",
   "language": "python",
   "name": "python3"
  },
  "language_info": {
   "codemirror_mode": {
    "name": "ipython",
    "version": 3
   },
   "file_extension": ".py",
   "mimetype": "text/x-python",
   "name": "python",
   "nbconvert_exporter": "python",
   "pygments_lexer": "ipython3",
   "version": "3.11.7"
  },
  "orig_nbformat": 4
 },
 "nbformat": 4,
 "nbformat_minor": 2
}
