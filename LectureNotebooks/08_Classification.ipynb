{
 "cells": [
  {
   "cell_type": "markdown",
   "metadata": {},
   "source": [
    "# Building AI Applications with ChatGPT\n",
    "\n",
    "Sumudu Tennakoon, PhD\n",
    "<hr>\n",
    "\n",
    "# Classification Tasks\n",
    "\n",
    "In this notebook we will explore some basic fetures on Python programing language for those who have a prior programing expereince.\n",
    "\n",
    "To learn more about Python, refeer to the following websites\n",
    "\n",
    "- Python : https://www.python.org\n",
    "\n",
    "To learn more about the Python packages we explore in this notebook, refer to the following websites\n",
    "\n",
    "- OpenAI API : https://platform.openai.com/docs/api-reference\n"
   ]
  },
  {
   "cell_type": "code",
   "execution_count": 2,
   "metadata": {},
   "outputs": [],
   "source": [
    "import openai\n",
    "import configparser\n",
    "config = configparser.ConfigParser()\n",
    "config.read(r'../../../config.ini') #Change to your path or assign API Key to openai_api_key (not recomended for production)\n",
    "\n",
    "openai_api_key = config['SECRETS']['openai_api_key']"
   ]
  },
  {
   "cell_type": "markdown",
   "metadata": {},
   "source": [
    "## Classify Given List of Items"
   ]
  },
  {
   "cell_type": "code",
   "execution_count": 4,
   "metadata": {},
   "outputs": [
    {
     "name": "stdout",
     "output_type": "stream",
     "text": [
      "chat_response: \n",
      "\n",
      "Microsoft: Technology\n",
      "Facebook: Technology\n",
      "Fedex: Logistics\n",
      "UPS: Logistics\n",
      "Amazon: Retail\n",
      "Walmart: Retail\n",
      "Wholefoods: Retail\n",
      "Delta: Airlines\n",
      "Toyota: Automotive\n",
      "Nvidia: Technology\n",
      "\n",
      "usage:{'prompt_tokens': 38, 'completion_tokens': 52, 'total_tokens': 90}\n"
     ]
    }
   ],
   "source": [
    "openai.api_key = openai_api_key\n",
    "MODEL = \"text-davinci-003\"\n",
    "\n",
    "INSTRUCTION = r'Assign industry catergory to the company names given below.'\n",
    "\n",
    "text = \"Microsoft, Facebook, Fedex, UPS, Amazon, Walmart, Wholefoods, Delta, Toyota, Nvidia\"\n",
    "\n",
    "prompt = F\"{INSTRUCTION}\\n\\n{text}\\n\\n\"\n",
    "\n",
    "response = openai.Completion.create(\n",
    "  model=MODEL,\n",
    "  prompt=prompt,\n",
    "  temperature=0.3,\n",
    "  max_tokens=100,\n",
    "  top_p=1.0,\n",
    "  frequency_penalty=0.0,\n",
    "  presence_penalty=0.0\n",
    ")\n",
    "\n",
    "\n",
    "chat_response = response['choices'][0]['text']\n",
    "usage = response['usage'].to_dict()\n",
    "\n",
    "print(F\"chat_response: {chat_response}\\n\\nusage:{usage}\")"
   ]
  },
  {
   "cell_type": "code",
   "execution_count": 5,
   "metadata": {},
   "outputs": [
    {
     "name": "stdout",
     "output_type": "stream",
     "text": [
      "chat_response: \n",
      "Entertainment\n",
      "\n",
      "usage:{'prompt_tokens': 49, 'completion_tokens': 3, 'total_tokens': 52}\n"
     ]
    }
   ],
   "source": [
    "openai.api_key = openai_api_key\n",
    "MODEL = \"text-davinci-003\"\n",
    "\n",
    "INSTRUCTION = r'Classificy the given news headline into one of the categories from \\\n",
    "Grocery, Computer, Education, Sports, Entertainment, Celebrity, Politics, Business and Transportation.'\n",
    "\n",
    "text = \"Christopher Nolan returns with latest blockbuster 'Oppenheimer'\"\n",
    "\n",
    "prompt = F\"{INSTRUCTION}\\n\\n{text}\\n\\n\"\n",
    "\n",
    "response = openai.Completion.create(\n",
    "  model=MODEL,\n",
    "  prompt=prompt,\n",
    "  temperature=0.3,\n",
    "  max_tokens=100,\n",
    "  top_p=1.0,\n",
    "  frequency_penalty=0.0,\n",
    "  presence_penalty=0.0\n",
    ")\n",
    "\n",
    "\n",
    "chat_response = response['choices'][0]['text']\n",
    "usage = response['usage'].to_dict()\n",
    "\n",
    "print(F\"chat_response: {chat_response}\\n\\nusage:{usage}\")"
   ]
  },
  {
   "cell_type": "markdown",
   "metadata": {},
   "source": [
    "### Create News Headline CLassification Function"
   ]
  },
  {
   "cell_type": "code",
   "execution_count": 11,
   "metadata": {},
   "outputs": [],
   "source": [
    "def classify_news_headline(text):\n",
    "    openai.api_key = openai_api_key\n",
    "    MODEL = \"text-davinci-003\"\n",
    "\n",
    "    INSTRUCTION = r'Classificy the given news headline into one of the categories from \\\n",
    "    Science, Technology, Health, Education, Sports, Entertainment, Politics, Business and Transportation.'\n",
    "\n",
    "    prompt = F\"{INSTRUCTION}\\n\\n{text}\\n\\n\"\n",
    "\n",
    "    response = openai.Completion.create(\n",
    "        model=MODEL,\n",
    "        prompt=prompt,\n",
    "        temperature=0.3,\n",
    "        max_tokens=100,\n",
    "        top_p=1.0,\n",
    "        frequency_penalty=0.0,\n",
    "        presence_penalty=0.0\n",
    "    )\n",
    "\n",
    "    chat_response = response['choices'][0]['text']\n",
    "    usage = response['usage'].to_dict()\n",
    "\n",
    "    return chat_response, usage"
   ]
  },
  {
   "cell_type": "code",
   "execution_count": 6,
   "metadata": {},
   "outputs": [
    {
     "name": "stdout",
     "output_type": "stream",
     "text": [
      "chat_response: Sports\n",
      "\n",
      "usage:{'prompt_tokens': 59, 'completion_tokens': 1, 'total_tokens': 60}\n"
     ]
    }
   ],
   "source": [
    "text = r\"Sri Lanka finish ODI WC qualifier with spotless record after bowlers script big win in the final\"\n",
    "\n",
    "chat_response, usage = classify_news_headline(text)\n",
    "\n",
    "print(F\"chat_response: {chat_response}\\n\\nusage:{usage}\")"
   ]
  },
  {
   "cell_type": "code",
   "execution_count": 12,
   "metadata": {},
   "outputs": [
    {
     "name": "stdout",
     "output_type": "stream",
     "text": [
      "chat_response: Science\n",
      "\n",
      "usage:{'prompt_tokens': 50, 'completion_tokens': 1, 'total_tokens': 51}\n"
     ]
    }
   ],
   "source": [
    "text = r\"Solar storm on Thursday expected to make Northern Lights visible in 17 states\"\n",
    "\n",
    "chat_response, usage = classify_news_headline(text)\n",
    "\n",
    "print(F\"chat_response: {chat_response}\\n\\nusage:{usage}\")"
   ]
  },
  {
   "cell_type": "code",
   "execution_count": 14,
   "metadata": {},
   "outputs": [
    {
     "name": "stdout",
     "output_type": "stream",
     "text": [
      "chat_response: Business\n",
      "\n",
      "usage:{'prompt_tokens': 55, 'completion_tokens': 1, 'total_tokens': 56}\n"
     ]
    }
   ],
   "source": [
    "text = r\"Tesla still holds top spot in EV market with 60% share, Hyundai inches into second place\"\n",
    "\n",
    "chat_response, usage = classify_news_headline(text)\n",
    "\n",
    "print(F\"chat_response: {chat_response}\\n\\nusage:{usage}\")"
   ]
  },
  {
   "cell_type": "markdown",
   "metadata": {},
   "source": [
    "<hr/>\n",
    "Last update 2023-07-05 by Sumudu Tennakoon\n",
    "\n",
    "<a rel=\"license\" href=\"http://creativecommons.org/licenses/by-nc-sa/4.0/\"><img alt=\"Creative Commons License\" style=\"border-width:0\" src=\"https://i.creativecommons.org/l/by-nc-sa/4.0/88x31.png\" /></a><br />This work is licensed under a <a rel=\"license\" href=\"http://creativecommons.org/licenses/by-nc-sa/4.0/\">Creative Commons Attribution-NonCommercial-ShareAlike 4.0 International License</a>."
   ]
  }
 ],
 "metadata": {
  "kernelspec": {
   "display_name": ".venv",
   "language": "python",
   "name": "python3"
  },
  "language_info": {
   "codemirror_mode": {
    "name": "ipython",
    "version": 3
   },
   "file_extension": ".py",
   "mimetype": "text/x-python",
   "name": "python",
   "nbconvert_exporter": "python",
   "pygments_lexer": "ipython3",
   "version": "3.10.11"
  },
  "orig_nbformat": 4
 },
 "nbformat": 4,
 "nbformat_minor": 2
}
