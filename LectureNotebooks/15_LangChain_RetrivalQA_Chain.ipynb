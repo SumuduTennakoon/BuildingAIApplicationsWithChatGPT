{
 "cells": [
  {
   "cell_type": "markdown",
   "metadata": {},
   "source": [
    "# Building AI Applications with ChatGPT\n",
    "\n",
    "Sumudu Tennakoon, PhD\n",
    "<hr>\n",
    "\n",
    "# LangChain RetrivalQA Chain\n",
    "\n",
    "In this notebook we will explore some basic fetures on Python programing language for those who have a prior programing expereince.\n",
    "\n",
    "To learn more about Python, refeer to the following websites\n",
    "\n",
    "- Python : https://www.python.org\n",
    "\n",
    "To learn more about the Python packages we explore in this notebook, refer to the following websites\n",
    "\n",
    "- OpenAI API : https://platform.openai.com/docs/api-reference\n",
    "- LangChain : https://python.langchain.com/docs/get_started/introduction.html\n"
   ]
  },
  {
   "cell_type": "markdown",
   "metadata": {},
   "source": [
    "### Python Library Installation\n",
    "\n",
    "* Run below code cell to install required libraries before you continue. Ignore that if you already installed them."
   ]
  },
  {
   "cell_type": "code",
   "execution_count": null,
   "metadata": {},
   "outputs": [],
   "source": [
    "!pip install openai langchain"
   ]
  },
  {
   "cell_type": "markdown",
   "metadata": {},
   "source": [
    "### Load OpenAI API Key"
   ]
  },
  {
   "cell_type": "code",
   "execution_count": 2,
   "metadata": {},
   "outputs": [],
   "source": [
    "import openai\n",
    "import configparser\n",
    "config = configparser.ConfigParser()\n",
    "config.read(r'../../../config.ini') #Change to your path or assign API Key to openai_api_key (not recomended for production)\n",
    "\n",
    "openai_api_key = config['SECRETS']['openai_api_key']"
   ]
  },
  {
   "cell_type": "markdown",
   "metadata": {},
   "source": [
    "### Load Document File"
   ]
  },
  {
   "cell_type": "code",
   "execution_count": 3,
   "metadata": {},
   "outputs": [
    {
     "name": "stdout",
     "output_type": "stream",
     "text": [
      "1\n",
      "page_content='Marie Curie \\nBiographical\\n\\nMarie Curie, nÃ©e Maria Sklodowska, was born in Warsaw on November 7, 1867, the daughter of a secondary-school teacher. She received a general education in local schools and some scientific training from her father. She became involved in a studentsâ€™ revolutionary organization and found it prudent to leave Warsaw, then in the part of Poland dominated by Russia, for Cracow, which at that time was under Austrian rule. In 1891, she went to Paris to continue her studies at the Sorbonne where she obtained Licenciateships in Physics and the Mathematical Sciences. She met Pierre Curie, Professor in the School of Physics in 1894 and in the following year they were married. She succeeded her husband as Head of the Physics Laboratory at the Sorbonne, gained her Doctor of Science degree in 1903, and following the tragic death of Pierre Curie in 1906, she took his place as Professor of General Physics in the Faculty of Sciences, the first time a woman had held this position. She was also appointed Director of the Curie Laboratory in the Radium Institute of the University of Paris, founded in 1914.\\n\\nHer early researches, together with her husband, were often performed under difficult conditions, laboratory arrangements were poor and both had to undertake much teaching to earn a livelihood. The discovery of radioactivity by Henri Becquerel in 1896 inspired the Curies in their brilliant researches and analyses which led to the isolation of polonium, named after the country of Marieâ€™s birth, and radium. Mme. Curie developed methods for the separation of radium from radioactive residues in sufficient quantities to allow for its characterization and the careful study of its properties, therapeutic properties in particular.\\n\\nMme. Curie throughout her life actively promoted the use of radium to alleviate suffering and during World War I, assisted by her daughter, Irene, she personally devoted herself to this remedial work. She retained her enthusiasm for science throughout her life and did much to establish a radioactivity laboratory in her native city â€“ in 1929 President Hoover of the United States presented her with a gift of $ 50,000, donated by American friends of science, to purchase radium for use in the laboratory in Warsaw.\\n\\nMme. Curie, quiet, dignified and unassuming, was held in high esteem and admiration by scientists throughout the world. She was a member of the Conseil du Physique Solvay from 1911 until her death and since 1922 she had been a member of the Committee of Intellectual Co-operation of the League of Nations. Her work is recorded in numerous papers in scientific journals and she is the author of Recherches sur les Substances Radioactives (1904), Lâ€™Isotopie et les Ã‰lÃ©ments Isotopes and the classic TraitÃ©â€™ de RadioactivitÃ© (1910).\\n\\nThe importance of Mme. Curieâ€™s work is reflected in the numerous awards bestowed on her. She received many honorary science, medicine and law degrees and honorary memberships of learned societies throughout the world. Together with her husband, she was awarded half of the Nobel Prize for Physics in 1903, for their study into the spontaneous radiation discovered by Becquerel, who was awarded the other half of the Prize. In 1911 she received a second Nobel Prize, this time in Chemistry, in recognition of her work in radioactivity. She also received, jointly with her husband, the Davy Medal of the Royal Society in 1903 and, in 1921, President Harding of the United States, on behalf of the women of America, presented her with one gram of radium in recognition of her service to science.\\n\\nMme. Curie died in Savoy, France, after a short illness, on July 4, 1934.\\n\\nMarie Curie â€“ Biographical. NobelPrize.org. Nobel Prize Outreach AB 2023. Mon. 10 Jul 2023. <https://www.nobelprize.org/prizes/physics/1903/marie-curie/biographical/> ' metadata={'source': '../Data/Marie_Curie_Bio.txt'}\n"
     ]
    }
   ],
   "source": [
    "from langchain.document_loaders import TextLoader\n",
    "\n",
    "source_file = \"../Data/Marie_Curie_Bio.txt\"\n",
    "\n",
    "loader = TextLoader(source_file)\n",
    "\n",
    "documents = loader.load()\n",
    "\n",
    "print( len(documents))\n",
    "print( documents[0])"
   ]
  },
  {
   "cell_type": "markdown",
   "metadata": {},
   "source": [
    "### Split Text Into Document Chunks"
   ]
  },
  {
   "cell_type": "code",
   "execution_count": 4,
   "metadata": {},
   "outputs": [
    {
     "name": "stdout",
     "output_type": "stream",
     "text": [
      "13\n",
      "page_content='Marie Curie \\nBiographical' metadata={'source': '../Data/Marie_Curie_Bio.txt', 'start_index': 0}\n"
     ]
    }
   ],
   "source": [
    "from langchain.text_splitter import RecursiveCharacterTextSplitter\n",
    "\n",
    "text_splitter = RecursiveCharacterTextSplitter(chunk_size=500, \n",
    "                                               chunk_overlap=0,\n",
    "                                               length_function = len,\n",
    "                                               separators=['\\n\\n', '\\n', '.', ' ', ''],\n",
    "                                               add_start_index = True,\n",
    "                                               )\n",
    "\n",
    "docs = text_splitter.split_documents(documents)\n",
    "\n",
    "print( len(docs))\n",
    "print( docs[0])"
   ]
  },
  {
   "cell_type": "code",
   "execution_count": 5,
   "metadata": {},
   "outputs": [
    {
     "name": "stdout",
     "output_type": "stream",
     "text": [
      "page_content='Marie Curie, nÃ©e Maria Sklodowska, was born in Warsaw on November 7, 1867, the daughter of a secondary-school teacher. She received a general education in local schools and some scientific training from her father. She became involved in a studentsâ€™ revolutionary organization and found it prudent to leave Warsaw, then in the part of Poland dominated by Russia, for Cracow, which at that time was under Austrian rule. In 1891, she went to Paris to continue her studies at the Sorbonne where she' metadata={'source': '../Data/Marie_Curie_Bio.txt', 'start_index': 27}\n"
     ]
    }
   ],
   "source": [
    "print( docs[1])"
   ]
  },
  {
   "cell_type": "code",
   "execution_count": 6,
   "metadata": {},
   "outputs": [],
   "source": [
    "from langchain.embeddings.openai import OpenAIEmbeddings\n",
    "from langchain.vectorstores import Chroma\n",
    "\n",
    "embeddings = OpenAIEmbeddings(openai_api_key=openai_api_key)\n",
    "doc_search = Chroma.from_documents(docs, embeddings)"
   ]
  },
  {
   "cell_type": "markdown",
   "metadata": {},
   "source": [
    "## Create LLM Object"
   ]
  },
  {
   "cell_type": "code",
   "execution_count": 7,
   "metadata": {},
   "outputs": [],
   "source": [
    "from langchain.chat_models import ChatOpenAI\n",
    "\n",
    "MODEL = \"gpt-3.5-turbo\"\n",
    "\n",
    "chat_llm = ChatOpenAI(model=MODEL, \n",
    "                      temperature=0, \n",
    "                      max_tokens=200, \n",
    "                      openai_api_key=openai_api_key,\n",
    "                      verbose=True)"
   ]
  },
  {
   "cell_type": "markdown",
   "metadata": {},
   "source": [
    "## Create RetrievalQA Chain"
   ]
  },
  {
   "cell_type": "code",
   "execution_count": 8,
   "metadata": {},
   "outputs": [],
   "source": [
    "from langchain.chains import RetrievalQA\n",
    "\n",
    "# chain_type = {\"stuff\", \"map_reduce\", \"refine\"} \n",
    "# https://python.langchain.com/docs/modules/chains/additional/question_answering.html\n",
    "\n",
    "qa = RetrievalQA.from_chain_type(llm=chat_llm, \n",
    "                                 chain_type=\"stuff\", \n",
    "                                 retriever=doc_search.as_retriever())\n"
   ]
  },
  {
   "cell_type": "markdown",
   "metadata": {},
   "source": [
    "### Run Query"
   ]
  },
  {
   "cell_type": "code",
   "execution_count": 9,
   "metadata": {},
   "outputs": [
    {
     "data": {
      "text/plain": [
       "'Henri Becquerel discovered radioactivity in 1896.'"
      ]
     },
     "execution_count": 9,
     "metadata": {},
     "output_type": "execute_result"
    }
   ],
   "source": [
    "query = \"Who discovered radioactivity?\"\n",
    "qa.run(query)"
   ]
  },
  {
   "cell_type": "markdown",
   "metadata": {},
   "source": [
    "### Return Source Documents"
   ]
  },
  {
   "cell_type": "code",
   "execution_count": 10,
   "metadata": {},
   "outputs": [],
   "source": [
    "from langchain.chains import RetrievalQA\n",
    "\n",
    "# chain_type = {\"stuff\", \"map_reduce\", \"refine\"} \n",
    "# https://python.langchain.com/docs/modules/chains/additional/question_answering.html\n",
    "\n",
    "qa = RetrievalQA.from_chain_type(llm=chat_llm, \n",
    "                                 chain_type=\"stuff\", \n",
    "                                 retriever=doc_search.as_retriever(),\n",
    "                                 return_source_documents=True\n",
    "                                 )"
   ]
  },
  {
   "cell_type": "code",
   "execution_count": 11,
   "metadata": {},
   "outputs": [
    {
     "data": {
      "text/plain": [
       "{'query': 'Who discovered radioactivity?',\n",
       " 'result': 'Henri Becquerel discovered radioactivity in 1896.',\n",
       " 'source_documents': [Document(page_content='Her early researches, together with her husband, were often performed under difficult conditions, laboratory arrangements were poor and both had to undertake much teaching to earn a livelihood. The discovery of radioactivity by Henri Becquerel in 1896 inspired the Curies in their brilliant researches and analyses which led to the isolation of polonium, named after the country of Marieâ€™s birth, and radium. Mme. Curie developed methods for the separation of radium from radioactive residues in s', metadata={'source': '../Data/Marie_Curie_Bio.txt', 'start_index': 1133}),\n",
       "  Document(page_content='gnition of her work in radioactivity. She also received, jointly with her husband, the Davy Medal of the Royal Society in 1903 and, in 1921, President Harding of the United States, on behalf of the women of America, presented her with one gram of radium in recognition of her service to science.', metadata={'source': '../Data/Marie_Curie_Bio.txt', 'start_index': 3324}),\n",
       "  Document(page_content='c TraitÃ©â€™ de RadioactivitÃ© (1910).', metadata={'source': '../Data/Marie_Curie_Bio.txt', 'start_index': 2785}),\n",
       "  Document(page_content='ted Director of the Curie Laboratory in the Radium Institute of the University of Paris, founded in 1914.', metadata={'source': '../Data/Marie_Curie_Bio.txt', 'start_index': 1026})]}"
      ]
     },
     "execution_count": 11,
     "metadata": {},
     "output_type": "execute_result"
    }
   ],
   "source": [
    "query = \"Who discovered radioactivity?\"\n",
    "response = qa({\"query\": query})\n",
    "\n",
    "response"
   ]
  },
  {
   "cell_type": "code",
   "execution_count": 12,
   "metadata": {},
   "outputs": [
    {
     "name": "stdout",
     "output_type": "stream",
     "text": [
      "Answer: Henri Becquerel discovered radioactivity in 1896.\n",
      "Documents: [Document(page_content='Her early researches, together with her husband, were often performed under difficult conditions, laboratory arrangements were poor and both had to undertake much teaching to earn a livelihood. The discovery of radioactivity by Henri Becquerel in 1896 inspired the Curies in their brilliant researches and analyses which led to the isolation of polonium, named after the country of Marieâ€™s birth, and radium. Mme. Curie developed methods for the separation of radium from radioactive residues in s', metadata={'source': '../Data/Marie_Curie_Bio.txt', 'start_index': 1133}), Document(page_content='gnition of her work in radioactivity. She also received, jointly with her husband, the Davy Medal of the Royal Society in 1903 and, in 1921, President Harding of the United States, on behalf of the women of America, presented her with one gram of radium in recognition of her service to science.', metadata={'source': '../Data/Marie_Curie_Bio.txt', 'start_index': 3324}), Document(page_content='c TraitÃ©â€™ de RadioactivitÃ© (1910).', metadata={'source': '../Data/Marie_Curie_Bio.txt', 'start_index': 2785}), Document(page_content='ted Director of the Curie Laboratory in the Radium Institute of the University of Paris, founded in 1914.', metadata={'source': '../Data/Marie_Curie_Bio.txt', 'start_index': 1026})]\n"
     ]
    }
   ],
   "source": [
    "print(F\"Answer: {response['result']}\")\n",
    "\n",
    "print(F\"Documents: {response['source_documents']}\")"
   ]
  },
  {
   "cell_type": "markdown",
   "metadata": {},
   "source": [
    "### Create RetrievalQAWithSourcesChain"
   ]
  },
  {
   "cell_type": "code",
   "execution_count": 14,
   "metadata": {},
   "outputs": [
    {
     "data": {
      "text/plain": [
       "{'answer': 'Marie Curie discovered radioactivity.\\n',\n",
       " 'sources': '../Data/Marie_Curie_Bio.txt'}"
      ]
     },
     "execution_count": 14,
     "metadata": {},
     "output_type": "execute_result"
    }
   ],
   "source": [
    "from langchain.chains import RetrievalQAWithSourcesChain\n",
    "\n",
    "qa_chain = RetrievalQAWithSourcesChain.from_chain_type(llm=chat_llm, \n",
    "                                                    chain_type=\"stuff\", \n",
    "                                                    retriever=doc_search.as_retriever())\n",
    "\n",
    "response = qa_chain({\"question\": query}, return_only_outputs=True)\n",
    "response"
   ]
  },
  {
   "cell_type": "markdown",
   "metadata": {},
   "source": [
    "## Custom Prompts\n",
    "### With Translation"
   ]
  },
  {
   "cell_type": "code",
   "execution_count": 19,
   "metadata": {},
   "outputs": [],
   "source": [
    "from langchain.prompts import PromptTemplate\n",
    "\n",
    "prompt_template = \"\"\"Use the following pieces of context to answer the question at the end. \\\n",
    "If you don't know the answer, just say that you don't know, don't try to make up an answer.\\\n",
    "TRanslate answer to French\n",
    "\n",
    "{context}\n",
    "\n",
    "Question: {question}\n",
    "Answer:\"\"\"\n",
    "\n",
    "PROMPT = PromptTemplate(\n",
    "    template=prompt_template, input_variables=[\"context\", \"question\"]\n",
    ")\n",
    "\n",
    "chain_type_kwargs = {\"prompt\": PROMPT}\n",
    "\n",
    "qa = RetrievalQA.from_chain_type(llm=chat_llm, \n",
    "                                 chain_type=\"stuff\", \n",
    "                                 retriever=doc_search.as_retriever(), \n",
    "                                 chain_type_kwargs=chain_type_kwargs)"
   ]
  },
  {
   "cell_type": "code",
   "execution_count": 20,
   "metadata": {},
   "outputs": [
    {
     "data": {
      "text/plain": [
       "'Henri Becquerel a découvert la radioactivité.'"
      ]
     },
     "execution_count": 20,
     "metadata": {},
     "output_type": "execute_result"
    }
   ],
   "source": [
    "query = \"Who discovered radioactivity?\"\n",
    "qa.run(query)"
   ]
  },
  {
   "cell_type": "markdown",
   "metadata": {},
   "source": [
    "<hr/>\n",
    "Last update 2023-07-09 by Sumudu Tennakoon\n",
    "\n",
    "<a rel=\"license\" href=\"http://creativecommons.org/licenses/by-nc-sa/4.0/\"><img alt=\"Creative Commons License\" style=\"border-width:0\" src=\"https://i.creativecommons.org/l/by-nc-sa/4.0/88x31.png\" /></a><br />This work is licensed under a <a rel=\"license\" href=\"http://creativecommons.org/licenses/by-nc-sa/4.0/\">Creative Commons Attribution-NonCommercial-ShareAlike 4.0 International License</a>."
   ]
  }
 ],
 "metadata": {
  "kernelspec": {
   "display_name": ".venv",
   "language": "python",
   "name": "python3"
  },
  "language_info": {
   "codemirror_mode": {
    "name": "ipython",
    "version": 3
   },
   "file_extension": ".py",
   "mimetype": "text/x-python",
   "name": "python",
   "nbconvert_exporter": "python",
   "pygments_lexer": "ipython3",
   "version": "3.10.11"
  },
  "orig_nbformat": 4
 },
 "nbformat": 4,
 "nbformat_minor": 2
}
