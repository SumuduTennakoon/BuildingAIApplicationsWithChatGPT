{
 "cells": [
  {
   "cell_type": "markdown",
   "metadata": {},
   "source": [
    "# Building AI Applications with ChatGPT\n",
    "\n",
    "Sumudu Tennakoon, PhD\n",
    "<hr>\n",
    "\n",
    "# Build Chatbot for Q&A from Documents\n",
    "\n",
    "In this notebook we will explore some basic fetures on Python programing language for those who have a prior programing expereince.\n",
    "\n",
    "To learn more about Python, refeer to the following websites\n",
    "\n",
    "- Python : https://www.python.org\n",
    "\n",
    "To learn more about the Python packages we explore in this notebook, refer to the following websites\n",
    "\n",
    "- OpenAI API : https://platform.openai.com/docs/api-reference\n",
    "- LangChain : https://python.langchain.com/docs/get_started/introduction.html\n",
    "- Steamlit : https://streamlit.io/\n",
    "- FLask : https://flask.palletsprojects.com/en/2.3.x\n"
   ]
  },
  {
   "cell_type": "markdown",
   "metadata": {},
   "source": [
    "### Python Library Installation\n",
    "\n",
    "* Run below code cell to install required libraries before you continue. Ignore that if you already installed them."
   ]
  },
  {
   "cell_type": "code",
   "execution_count": null,
   "metadata": {},
   "outputs": [],
   "source": [
    "!pip install openai langchain sentence_transformers chromadb streamlit"
   ]
  },
  {
   "cell_type": "markdown",
   "metadata": {},
   "source": [
    "### Load OpenAI API Key"
   ]
  },
  {
   "cell_type": "code",
   "execution_count": 33,
   "metadata": {},
   "outputs": [],
   "source": [
    "import configparser\n",
    "config = configparser.ConfigParser()\n",
    "config.read(r'../../../config.ini') #Change to your path or assign API Key to openai_api_key (not recomended for production)\n",
    "\n",
    "openai_api_key = config['SECRETS']['openai_api_key']"
   ]
  },
  {
   "cell_type": "markdown",
   "metadata": {},
   "source": [
    "## Read Document"
   ]
  },
  {
   "cell_type": "code",
   "execution_count": 78,
   "metadata": {},
   "outputs": [],
   "source": [
    "from langchain.document_loaders import PyPDFLoader\n",
    "\n",
    "loader = PyPDFLoader(r\"..\\..\\..\\Data\\01-3.1.3.DL.Implications of responsible AI - Practical guide unit 2019 09 17.pdf\")\n",
    "pages = loader.load_and_split()"
   ]
  },
  {
   "cell_type": "code",
   "execution_count": 79,
   "metadata": {},
   "outputs": [
    {
     "name": "stdout",
     "output_type": "stream",
     "text": [
      "Abstract  \n",
      "AI has transformed from vision to reality, creating tangible benefits for people and enterprises around the \n",
      "world. But like any technology, it poses the risk of negative consequences when used improperly or \n",
      "irresponsibly. We want to share what we’re learni ng in our own journey in hopes that it can provide a useful \n",
      "perspective for other organizations navigating similar challenges.  \n",
      "Learn about Microsoft’s perspective on the importance of engaging with AI in a responsible manner . \n",
      "The transformative potential of AI  \n",
      "AI is the defining technology of our time. It is already enabling faster and more profound progress in nearly \n",
      "every field of human endeavor and helping to address some of society’s most daunting challenges —like \n",
      "providing remo te students with access to education and helping farmers produce enough food for our \n",
      "growing global population.  \n",
      "At Microsoft, we believe that the computational intelligence of AI should be used to amplify the innate \n",
      "creativity and ingenuity of humans. Our vision for AI is to empower every developer to innovate, empower \n",
      "organizations to transform industries, and empower people to transform society.  \n",
      "Societal implications of AI  \n",
      "As with all great technological innovations in the past, the use of AI technology w ill have broad impacts on \n",
      "society, raising complex and challenging questions about the future we want to see. AI will have implications \n",
      "on decision -making across industries, data security and privacy, and the skills people need to succeed in the \n",
      "workplace.  As we look to this future, we must ask ourselves: How do we design, build, and use AI systems \n",
      "that create a positive impact on individuals and society? How can we best prepare workers for the impact of \n",
      "AI? How can we attain the benefits of AI while respec ting privacy?  \n",
      "The importance of a responsible approach to AI \n",
      "It’s important to recognize that as new intelligent technology emerges  and proliferates throughout society, \n",
      "with its benefits will come unintended and unforeseen consequences, some with significant ethical \n",
      "ramifications and the potential to cause serious harm. While organizations can’t predict the future just yet, \n",
      "it’s our r esponsibility to make a concerted effort to anticipate and mitigate the unintended consequences of \n",
      "the technology we release into the world through deliberate planning and continual oversight.  \n",
      "Novel threats  \n",
      "We were reminded of this responsibility in 2016 w hen we released a chatbot on Twitter called Tay. We \n",
      "taught Tay to learn unsupervised from interactions with Twitter users, so she could better replicate human \n",
      "communication and personality traits. However, within 24 hours users realized that she could lear n and \n",
      "began to feed her bigoted rhetoric, turning her from a polite bot into a vehicle for hate speech. This \n",
      "Implications of responsible AI  \n",
      "Practical guide\n"
     ]
    }
   ],
   "source": [
    "print(pages[0].page_content)"
   ]
  },
  {
   "cell_type": "markdown",
   "metadata": {},
   "source": [
    "## Split Text From Document Pages Into Smaller Chunks"
   ]
  },
  {
   "cell_type": "code",
   "execution_count": 80,
   "metadata": {},
   "outputs": [
    {
     "data": {
      "text/plain": [
       "[Document(page_content='Abstract  \\nAI has transformed from vision to reality, creating tangible benefits for people and enterprises around the \\nworld. But like any technology, it poses the risk of negative consequences when used improperly or \\nirresponsibly. We want to share what we’re learni ng in our own journey in hopes that it can provide a useful \\nperspective for other organizations navigating similar challenges.  \\nLearn about Microsoft’s perspective on the importance of engaging with AI in a responsible manner .', metadata={'source': '..\\\\..\\\\..\\\\Data\\\\01-3.1.3.DL.Implications of responsible AI - Practical guide unit 2019 09 17.pdf', 'page': 0, 'start_index': 0}),\n",
       " Document(page_content='The transformative potential of AI  \\nAI is the defining technology of our time. It is already enabling faster and more profound progress in nearly \\nevery field of human endeavor and helping to address some of society’s most daunting challenges —like \\nproviding remo te students with access to education and helping farmers produce enough food for our \\ngrowing global population.  \\nAt Microsoft, we believe that the computational intelligence of AI should be used to amplify the innate', metadata={'source': '..\\\\..\\\\..\\\\Data\\\\01-3.1.3.DL.Implications of responsible AI - Practical guide unit 2019 09 17.pdf', 'page': 0, 'start_index': 501}),\n",
       " Document(page_content='creativity and ingenuity of humans. Our vision for AI is to empower every developer to innovate, empower \\norganizations to transform industries, and empower people to transform society.  \\nSocietal implications of AI  \\nAs with all great technological innovations in the past, the use of AI technology w ill have broad impacts on \\nsociety, raising complex and challenging questions about the future we want to see. AI will have implications', metadata={'source': '..\\\\..\\\\..\\\\Data\\\\01-3.1.3.DL.Implications of responsible AI - Practical guide unit 2019 09 17.pdf', 'page': 0, 'start_index': 987}),\n",
       " Document(page_content='on decision -making across industries, data security and privacy, and the skills people need to succeed in the \\nworkplace.  As we look to this future, we must ask ourselves: How do we design, build, and use AI systems \\nthat create a positive impact on individuals and society? How can we best prepare workers for the impact of \\nAI? How can we attain the benefits of AI while respec ting privacy?  \\nThe importance of a responsible approach to AI', metadata={'source': '..\\\\..\\\\..\\\\Data\\\\01-3.1.3.DL.Implications of responsible AI - Practical guide unit 2019 09 17.pdf', 'page': 0, 'start_index': 1427}),\n",
       " Document(page_content='It’s important to recognize that as new intelligent technology emerges  and proliferates throughout society, \\nwith its benefits will come unintended and unforeseen consequences, some with significant ethical \\nramifications and the potential to cause serious harm. While organizations can’t predict the future just yet, \\nit’s our r esponsibility to make a concerted effort to anticipate and mitigate the unintended consequences of', metadata={'source': '..\\\\..\\\\..\\\\Data\\\\01-3.1.3.DL.Implications of responsible AI - Practical guide unit 2019 09 17.pdf', 'page': 0, 'start_index': 1873}),\n",
       " Document(page_content='the technology we release into the world through deliberate planning and continual oversight.  \\nNovel threats  \\nWe were reminded of this responsibility in 2016 w hen we released a chatbot on Twitter called Tay. We \\ntaught Tay to learn unsupervised from interactions with Twitter users, so she could better replicate human \\ncommunication and personality traits. However, within 24 hours users realized that she could lear n and', metadata={'source': '..\\\\..\\\\..\\\\Data\\\\01-3.1.3.DL.Implications of responsible AI - Practical guide unit 2019 09 17.pdf', 'page': 0, 'start_index': 2304}),\n",
       " Document(page_content='began to feed her bigoted rhetoric, turning her from a polite bot into a vehicle for hate speech. This \\nImplications of responsible AI  \\nPractical guide', metadata={'source': '..\\\\..\\\\..\\\\Data\\\\01-3.1.3.DL.Implications of responsible AI - Practical guide unit 2019 09 17.pdf', 'page': 0, 'start_index': 2732}),\n",
       " Document(page_content='experience taught us that while technology may not be unethical on its own, people do not always have \\ngood intentions and we must consider the huma n element when designing AI systems. We learned to \\nprepare for new types of attacks that influence learning datasets, especially for AI systems that have \\nautomatic learning capabilities. To help ensure a similar experience does not happen again, we develop ed', metadata={'source': '..\\\\..\\\\..\\\\Data\\\\01-3.1.3.DL.Implications of responsible AI - Practical guide unit 2019 09 17.pdf', 'page': 1, 'start_index': 0}),\n",
       " Document(page_content='technology such as advanced content filters and introduced supervisors for AI systems with automatic \\nlearning capabilities.  \\nBiased outcomes  \\nAnother unintended consequence that organizations should keep in mind is that AI may reinforce societal or \\nother biases without deliberate planning and design. For example, Microsoft partnered with a large financial \\nlending institution to develop a risk scoring system for loan approvals. We trained an existing industry model', metadata={'source': '..\\\\..\\\\..\\\\Data\\\\01-3.1.3.DL.Implications of responsible AI - Practical guide unit 2019 09 17.pdf', 'page': 1, 'start_index': 412}),\n",
       " Document(page_content='using the customer’s data. When we conduct ed an audit of the system, we discovered that while it only \\napproved low -risk loans, all approved loans were for male borrowers. The training data reflected the fact that \\nloan officers historically favor male borrowers —and inspecting the system allowed us to identify and address \\nthat bias before the system was deployed. It’s important for developers to understand how bias can be', metadata={'source': '..\\\\..\\\\..\\\\Data\\\\01-3.1.3.DL.Implications of responsible AI - Practical guide unit 2019 09 17.pdf', 'page': 1, 'start_index': 887}),\n",
       " Document(page_content='introduced into either training data or machine learning models. At Microsoft, our researchers are exploring \\ntools and techniques for detecting and reducing bias within AI systems. Explore more about this and more in \\nthe summary and resources unit of this module.  \\nSensitive use cases  \\nAnother illustration of our responsibility to mitigate unintended consequences is with sensitive techn ologies', metadata={'source': '..\\\\..\\\\..\\\\Data\\\\01-3.1.3.DL.Implications of responsible AI - Practical guide unit 2019 09 17.pdf', 'page': 1, 'start_index': 1318}),\n",
       " Document(page_content='like facial recognition. Recently, there has been a growing demand for facial recognition technology, \\nespecially from law enforcement organizations that see the potential of the technology for use cases like \\nfinding missing children. However, we re cognize that these technologies could potentially be used by a \\ngovernment to put fundamental freedoms at risk by, for example, enabling continuous surveillance of', metadata={'source': '..\\\\..\\\\..\\\\Data\\\\01-3.1.3.DL.Implications of responsible AI - Practical guide unit 2019 09 17.pdf', 'page': 1, 'start_index': 1720}),\n",
       " Document(page_content='specific individuals. We believe society has a responsibility to set appropriate boundaries f or the use of these \\ntechnologies, which includes ensuring governmental use of facial recognition technology remains subject to \\nthe rule of law.   \\nWhile we believe that new laws and regulations are indispensable, we also recognize that they are not a \\nsubsti tute for the responsibility that needs to be exercised by businesses, governments, NGOs, and academic', metadata={'source': '..\\\\..\\\\..\\\\Data\\\\01-3.1.3.DL.Implications of responsible AI - Practical guide unit 2019 09 17.pdf', 'page': 1, 'start_index': 2136}),\n",
       " Document(page_content='researchers engaging with AI. This is why, in July 2018, we announced that we would assess and develop \\nprinciples to govern our work with facial recogniti on technologies. We anticipate these principles will evolve \\nover time as we continue to learn and partner with customers, other tech companies, academics, civil society, \\nand others on this issue. Review them in the summary and resources unit of this module .', metadata={'source': '..\\\\..\\\\..\\\\Data\\\\01-3.1.3.DL.Implications of responsible AI - Practical guide unit 2019 09 17.pdf', 'page': 1, 'start_index': 2594}),\n",
       " Document(page_content='Facial recognition technology highlights the importance of preparing for and remaining vigilant of \\nshortcomings and unintended consequences with all emerging AI. We consider it a shared responsibility \\nacross the public and private sector to engage with A I responsibly. It’s essential that we continue to foster \\nopen dialogue among businesses, governments, NGOs, academic researchers, and all other interested \\nindividuals and organizations.', metadata={'source': '..\\\\..\\\\..\\\\Data\\\\01-3.1.3.DL.Implications of responsible AI - Practical guide unit 2019 09 17.pdf', 'page': 1, 'start_index': 3012}),\n",
       " Document(page_content='Applying these ideas in your organization  \\nThe following three questio ns can help you start to consider the ways your organization can develop and \\ndeploy AI in a responsible manner.  \\n1. How can you use a human -led approach to drive value for your business?  \\n2. How will your organization’s foundational values affect your approach t o AI?  \\n3. How will you monitor AI systems to ensure they are evolving responsibly?  \\n \\nComing up', metadata={'source': '..\\\\..\\\\..\\\\Data\\\\01-3.1.3.DL.Implications of responsible AI - Practical guide unit 2019 09 17.pdf', 'page': 2, 'start_index': 0}),\n",
       " Document(page_content='In the next two units, we have outlined some of the steps Microsoft and TD Bank are taking to prioritize \\nresponsible AI in hopes that our experience can help as you c onsider these questions for your own \\norganization. The next unit  will outline six guiding principles we developed to guide our development and \\nuse of AI.', metadata={'source': '..\\\\..\\\\..\\\\Data\\\\01-3.1.3.DL.Implications of responsible AI - Practical guide unit 2019 09 17.pdf', 'page': 2, 'start_index': 439})]"
      ]
     },
     "execution_count": 80,
     "metadata": {},
     "output_type": "execute_result"
    }
   ],
   "source": [
    "from langchain.text_splitter import RecursiveCharacterTextSplitter\n",
    "\n",
    "text_splitter = RecursiveCharacterTextSplitter(chunk_size=500, \n",
    "                                               chunk_overlap=10,\n",
    "                                               length_function = len,\n",
    "                                               separators=['\\n\\n', '\\n', '.', ' ', ''],\n",
    "                                               add_start_index = True,\n",
    "                                               )\n",
    "\n",
    "text_chunks = text_splitter.split_documents(pages)\n",
    "\n",
    "text_chunks"
   ]
  },
  {
   "cell_type": "markdown",
   "metadata": {},
   "source": [
    "## Create Vector Database and Retriver"
   ]
  },
  {
   "cell_type": "code",
   "execution_count": 81,
   "metadata": {},
   "outputs": [],
   "source": [
    "from langchain.vectorstores import Chroma\n",
    "from langchain.embeddings import HuggingFaceEmbeddings\n",
    "\n",
    "embeddings = HuggingFaceEmbeddings(\n",
    "    model_name=\"sentence-transformers/all-mpnet-base-v2\",\n",
    "    model_kwargs={'device': 'cuda'},\n",
    "    encode_kwargs={'normalize_embeddings': False}\n",
    ")\n",
    "\n",
    "retriever = Chroma.from_documents(text_chunks, embeddings)"
   ]
  },
  {
   "cell_type": "code",
   "execution_count": 82,
   "metadata": {},
   "outputs": [],
   "source": [
    "# query_result = embeddings.embed_query(query)\n",
    "\n",
    "#doc_result = embeddings.embed_documents(docs)"
   ]
  },
  {
   "cell_type": "markdown",
   "metadata": {},
   "source": [
    "## Search Documents"
   ]
  },
  {
   "cell_type": "code",
   "execution_count": 83,
   "metadata": {},
   "outputs": [
    {
     "name": "stderr",
     "output_type": "stream",
     "text": [
      "Number of requested results 20 is greater than number of elements in index 17, updating n_results = 17\n"
     ]
    },
    {
     "data": {
      "text/plain": [
       "[Document(page_content='Applying these ideas in your organization  \\nThe following three questio ns can help you start to consider the ways your organization can develop and \\ndeploy AI in a responsible manner.  \\n1. How can you use a human -led approach to drive value for your business?  \\n2. How will your organization’s foundational values affect your approach t o AI?  \\n3. How will you monitor AI systems to ensure they are evolving responsibly?  \\n \\nComing up', metadata={'source': '..\\\\..\\\\..\\\\Data\\\\01-3.1.3.DL.Implications of responsible AI - Practical guide unit 2019 09 17.pdf', 'page': 2, 'start_index': 0}),\n",
       " Document(page_content='introduced into either training data or machine learning models. At Microsoft, our researchers are exploring \\ntools and techniques for detecting and reducing bias within AI systems. Explore more about this and more in \\nthe summary and resources unit of this module.  \\nSensitive use cases  \\nAnother illustration of our responsibility to mitigate unintended consequences is with sensitive techn ologies', metadata={'source': '..\\\\..\\\\..\\\\Data\\\\01-3.1.3.DL.Implications of responsible AI - Practical guide unit 2019 09 17.pdf', 'page': 1, 'start_index': 1318}),\n",
       " Document(page_content='the technology we release into the world through deliberate planning and continual oversight.  \\nNovel threats  \\nWe were reminded of this responsibility in 2016 w hen we released a chatbot on Twitter called Tay. We \\ntaught Tay to learn unsupervised from interactions with Twitter users, so she could better replicate human \\ncommunication and personality traits. However, within 24 hours users realized that she could lear n and', metadata={'source': '..\\\\..\\\\..\\\\Data\\\\01-3.1.3.DL.Implications of responsible AI - Practical guide unit 2019 09 17.pdf', 'page': 0, 'start_index': 2304})]"
      ]
     },
     "execution_count": 83,
     "metadata": {},
     "output_type": "execute_result"
    }
   ],
   "source": [
    "query = \"what are the three consideration when deploying AI responsibly?\"\n",
    "\n",
    "relevant_documents = retriever.max_marginal_relevance_search(query, k=3)\n",
    "relevant_documents"
   ]
  },
  {
   "cell_type": "markdown",
   "metadata": {},
   "source": [
    "## Create LLM Object"
   ]
  },
  {
   "cell_type": "code",
   "execution_count": 100,
   "metadata": {},
   "outputs": [],
   "source": [
    "from langchain.chat_models import ChatOpenAI\n",
    "\n",
    "MODEL = \"gpt-3.5-turbo\"\n",
    "\n",
    "chat_llm = ChatOpenAI(model=MODEL, \n",
    "                      temperature=0, \n",
    "                      max_tokens=200, \n",
    "                      openai_api_key=openai_api_key,\n",
    "                      verbose=True)"
   ]
  },
  {
   "cell_type": "markdown",
   "metadata": {},
   "source": [
    "## Create Prompt"
   ]
  },
  {
   "cell_type": "code",
   "execution_count": 101,
   "metadata": {},
   "outputs": [],
   "source": [
    "from langchain.chains import RetrievalQA\n",
    "\n",
    "# chain_type = {\"stuff\", \"map_reduce\", \"refine\"} \n",
    "# https://python.langchain.com/docs/modules/chains/additional/question_answering.html\n",
    "\n",
    "qa = RetrievalQA.from_chain_type(llm=chat_llm, \n",
    "                                 chain_type=\"stuff\", \n",
    "                                 retriever=retriever.as_retriever(k=3))\n"
   ]
  },
  {
   "cell_type": "code",
   "execution_count": 54,
   "metadata": {},
   "outputs": [],
   "source": [
    "from langchain.prompts import PromptTemplate\n",
    "\n",
    "prompt_template = \"\"\"Use the following pieces of context to answer the question at the end. \\\n",
    "If you don't know the answer, just say that you don't know, don't try to make up an answer.\\\n",
    "\n",
    "{context}\n",
    "\n",
    "Question: {question}\n",
    "Answer:\"\"\"\n",
    "\n",
    "PROMPT = PromptTemplate(\n",
    "    template=prompt_template, input_variables=[\"context\", \"question\"]\n",
    ")\n",
    "\n",
    "chain_type_kwargs = {\"prompt\": PROMPT}\n",
    "\n",
    "qa = RetrievalQA.from_chain_type(llm=chat_llm, \n",
    "                                 chain_type=\"stuff\", \n",
    "                                 retriever=retriever.as_retriever(enable_limit=True,k=3), \n",
    "                                 chain_type_kwargs=chain_type_kwargs, \n",
    "                                 return_source_documents=True)\n",
    "\n",
    "\n"
   ]
  },
  {
   "cell_type": "code",
   "execution_count": 52,
   "metadata": {},
   "outputs": [
    {
     "data": {
      "text/plain": [
       "{'query': 'Can you name a sensitive technology?',\n",
       " 'result': 'Facial recognition technology',\n",
       " 'source_documents': [Document(page_content='the technology we release into the world through deliberate planning and continual oversight.  \\nNovel threats  \\nWe were reminded of this responsibility in 2016 w hen we released a chatbot on Twitter called Tay. We \\ntaught Tay to learn unsupervised from interactions with Twitter users, so she could better replicate human \\ncommunication and personality traits. However, within 24 hours users realized that she could lear n and', metadata={'source': '..\\\\..\\\\..\\\\Data\\\\01-3.1.3.DL.Implications of responsible AI - Practical guide unit 2019 09 17.pdf', 'page': 0, 'start_index': 2304}),\n",
       "  Document(page_content='like facial recognition. Recently, there has been a growing demand for facial recognition technology, \\nespecially from law enforcement organizations that see the potential of the technology for use cases like \\nfinding missing children. However, we re cognize that these technologies could potentially be used by a \\ngovernment to put fundamental freedoms at risk by, for example, enabling continuous surveillance of', metadata={'source': '..\\\\..\\\\..\\\\Data\\\\01-3.1.3.DL.Implications of responsible AI - Practical guide unit 2019 09 17.pdf', 'page': 1, 'start_index': 1720}),\n",
       "  Document(page_content='It’s important to recognize that as new intelligent technology emerges  and proliferates throughout society, \\nwith its benefits will come unintended and unforeseen consequences, some with significant ethical \\nramifications and the potential to cause serious harm. While organizations can’t predict the future just yet, \\nit’s our r esponsibility to make a concerted effort to anticipate and mitigate the unintended consequences of', metadata={'source': '..\\\\..\\\\..\\\\Data\\\\01-3.1.3.DL.Implications of responsible AI - Practical guide unit 2019 09 17.pdf', 'page': 0, 'start_index': 1873}),\n",
       "  Document(page_content='experience taught us that while technology may not be unethical on its own, people do not always have \\ngood intentions and we must consider the huma n element when designing AI systems. We learned to \\nprepare for new types of attacks that influence learning datasets, especially for AI systems that have \\nautomatic learning capabilities. To help ensure a similar experience does not happen again, we develop ed', metadata={'source': '..\\\\..\\\\..\\\\Data\\\\01-3.1.3.DL.Implications of responsible AI - Practical guide unit 2019 09 17.pdf', 'page': 1, 'start_index': 0})]}"
      ]
     },
     "execution_count": 52,
     "metadata": {},
     "output_type": "execute_result"
    }
   ],
   "source": [
    "query = \"Can you name a sensitive technology?\"\n",
    "result = qa({\"query\": query})\n",
    "result"
   ]
  },
  {
   "cell_type": "markdown",
   "metadata": {},
   "source": [
    "## Add new Document"
   ]
  },
  {
   "cell_type": "code",
   "execution_count": 85,
   "metadata": {},
   "outputs": [],
   "source": [
    "from langchain.document_loaders import PyPDFLoader\n",
    "\n",
    "loader = PyPDFLoader(r\"..\\..\\..\\Data\\01-3.1.4.DL.Responsible AI - Establishing guiding principles unit 2019 09 17.pdf\")\n",
    "pages = loader.load_and_split()"
   ]
  },
  {
   "cell_type": "code",
   "execution_count": 86,
   "metadata": {},
   "outputs": [
    {
     "data": {
      "text/plain": [
       "[Document(page_content='Abstract  \\nIn the last unit, we discussed the societal implications of AI and the responsibility of businesses, \\ngovernments, NGOs, and academic researchers to anticipate and mitigate unintended consequences of AI \\ntechnology. In light of this responsibility, organizat ions are finding the need to create internal policies and \\npractices to guide their AI efforts, whether they are deploying third -party AI solutions or developing their \\nown.', metadata={'source': '..\\\\..\\\\..\\\\Data\\\\01-3.1.4.DL.Responsible AI - Establishing guiding principles unit 2019 09 17.pdf', 'page': 0, 'start_index': 0}),\n",
       " Document(page_content='own.  \\nAt Microsoft, we’ve recognized six principles that we believe should guide AI development and use: fairness, \\nreliability and safety, privacy and security, inclusiveness, transparency, and accountability. For us, these \\nprinciples are the cornerstone of a responsible and trustworthy approach to AI, especially as intelligent \\ntechnology  becomes more prevalent in the products and services we use every day.  \\nMicros oft’s six guiding  principles   \\n    Fairness', metadata={'source': '..\\\\..\\\\..\\\\Data\\\\01-3.1.4.DL.Responsible AI - Establishing guiding principles unit 2019 09 17.pdf', 'page': 0, 'start_index': 440}),\n",
       " Document(page_content='AI systems should treat everyone fairly and avoid affecting similarly situated groups of people in different \\nways. For example, when AI  systems provide guidance on medical treatment, loan applications, or \\nemployment, they should make the same recommendations to everyone with similar symptoms, financial \\ncircumstances, or professional qualifications.  \\nWe believe that mitigating bias starts with people understanding the implications and limitations of AI', metadata={'source': '..\\\\..\\\\..\\\\Data\\\\01-3.1.4.DL.Responsible AI - Establishing guiding principles unit 2019 09 17.pdf', 'page': 0, 'start_index': 913}),\n",
       " Document(page_content='predictions and recommendations. Ultimately, people should supplement AI decisions with sound human \\njudgment and be held accountable for consequential decisions that affect others.  \\nWhen desi gning and building AI systems, developers should understand how bias can be introduced and \\nhow it can affect AI -based recommendations. To help mitigate bias, they should use training datasets that', metadata={'source': '..\\\\..\\\\..\\\\Data\\\\01-3.1.4.DL.Responsible AI - Establishing guiding principles unit 2019 09 17.pdf', 'page': 0, 'start_index': 1375}),\n",
       " Document(page_content='reflect the diversity of society. They should also design A I models in ways that allow them to learn and adapt \\nover time without developing biases. To help them develop AI systems that treat everyone fairly, developers \\ncan leverage tools, methodologies, techniques, and other resources that help detect and mitigate  biases.   \\n \\n     Reliability and safety  \\nTo build trust, it’s critical that AI systems operate  reliably, safely, and consistently under normal', metadata={'source': '..\\\\..\\\\..\\\\Data\\\\01-3.1.4.DL.Responsible AI - Establishing guiding principles unit 2019 09 17.pdf', 'page': 0, 'start_index': 1769}),\n",
       " Document(page_content='circumstances and in unexpected conditions. These systems should be able to operate as they were \\noriginally designed, respond safely to unanticipated conditions, and resist harmful manipulation. It’s also \\nimportant to be able to verify that these systems are behaving as intended under actual operating \\nconditions. How they behave and the variety of conditions they can handle reliably and safely largely reflects', metadata={'source': '..\\\\..\\\\..\\\\Data\\\\01-3.1.4.DL.Responsible AI - Establishing guiding principles unit 2019 09 17.pdf', 'page': 0, 'start_index': 2236}),\n",
       " Document(page_content='the range of situations and circumstances that de velopers anticipate during design and testing.  \\nResponsible AI  \\nGuiding principles', metadata={'source': '..\\\\..\\\\..\\\\Data\\\\01-3.1.4.DL.Responsible AI - Establishing guiding principles unit 2019 09 17.pdf', 'page': 0, 'start_index': 2654}),\n",
       " Document(page_content='We believe that rigorous testing is essential during system development and deployment to ensure AI \\nsystems can respond safely in unanticipated situations and edge cases, don’t have unexpected performance \\nfailures, and don’t evolve in ways that are inconsistent with original expectations. After testing and \\ndeployment, it’s equally important that organizations properly operate, maintain, and protect their AI', metadata={'source': '..\\\\..\\\\..\\\\Data\\\\01-3.1.4.DL.Responsible AI - Establishing guiding principles unit 2019 09 17.pdf', 'page': 1, 'start_index': 0}),\n",
       " Document(page_content='systems over the lifespan of their use. If not maintai ned properly, AI systems can become unreliable or \\ninaccurate, so it’s crucial to account for long -term operations and monitoring in every AI implementation. \\nUltimately, because AI should augment and amplify human capabilities, people need to play a critica l role in \\nmaking decisions about how and when an AI system is deployed, and whether it’s appropriate to continue to', metadata={'source': '..\\\\..\\\\..\\\\Data\\\\01-3.1.4.DL.Responsible AI - Establishing guiding principles unit 2019 09 17.pdf', 'page': 1, 'start_index': 415}),\n",
       " Document(page_content='use it over time. Human judgment will be key to identifying potential blind spots and biases in AI systems.  \\n \\n     Privacy and security  \\nAs AI becomes more prevalent, protecting privacy and securing important personal and business information \\nis becoming more critical and complex. With AI, privacy and data security issues require especially close \\nattention because access to data is essential fo r AI systems to make accurate and informed predictions and', metadata={'source': '..\\\\..\\\\..\\\\Data\\\\01-3.1.4.DL.Responsible AI - Establishing guiding principles unit 2019 09 17.pdf', 'page': 1, 'start_index': 848}),\n",
       " Document(page_content='decisions about people. AI systems must comply with privacy laws that require transparency about the \\ncollection, use, and storage of data and mandate that consumers have appropriate controls to cho ose how \\ntheir data is used. At Microsoft, we are continuing to research privacy and security breakthroughs (see next \\nunit) and invest in robust compliance processes to ensure that data collected and used by our AI systems is \\nhandled responsibly.   \\n \\n       Inclusiveness', metadata={'source': '..\\\\..\\\\..\\\\Data\\\\01-3.1.4.DL.Responsible AI - Establishing guiding principles unit 2019 09 17.pdf', 'page': 1, 'start_index': 1311}),\n",
       " Document(page_content='At Microsoft, we firmly believe everyone should benefit from intelligent technology, meaning it must \\nincorporate and address a broad range of human needs and experiences. For the 1 billion people with \\ndisabilities around the world, AI techn ologies can be a game -changer. AI can improve access to education, \\ngovernment services, employment, information, and a wide range of other opportunities. Intelligent', metadata={'source': '..\\\\..\\\\..\\\\Data\\\\01-3.1.4.DL.Responsible AI - Establishing guiding principles unit 2019 09 17.pdf', 'page': 1, 'start_index': 1787}),\n",
       " Document(page_content='solutions such as real -time speech -to-text transcription, visual recognition services, and  predictive text \\nfunctionality are already empowering those with hearing, visual, and other impairments.  \\nInclusive design practices  can help system developers understand and address potential barriers in a product \\nenvironment that could unintentionally exclude people. By addressing these barriers, we create opportunities \\nto innovate and design better experiences that benefit everyone.', metadata={'source': '..\\\\..\\\\..\\\\Data\\\\01-3.1.4.DL.Responsible AI - Establishing guiding principles unit 2019 09 17.pdf', 'page': 1, 'start_index': 2199}),\n",
       " Document(page_content='Transparency  \\nUnderlying the preceding values are two foundational principles that are essential for ensuring the \\neffectiveness of the rest: transparency and accountability. When AI systems are used to help inform decisions \\nthat have tremendous i mpacts on people’s lives, it is critical that people understand how those decisions \\nwere made. For example, a bank might use an AI system to decide whether a person is creditworthy, or a', metadata={'source': '..\\\\..\\\\..\\\\Data\\\\01-3.1.4.DL.Responsible AI - Establishing guiding principles unit 2019 09 17.pdf', 'page': 1, 'start_index': 2698}),\n",
       " Document(page_content='company might use an AI system to determine the most qualified candid ates to hire .', metadata={'source': '..\\\\..\\\\..\\\\Data\\\\01-3.1.4.DL.Responsible AI - Establishing guiding principles unit 2019 09 17.pdf', 'page': 1, 'start_index': 3137}),\n",
       " Document(page_content='A crucial part of transparency is what we refer to as intelligibility, or the useful explanation of the behavior of \\nAI systems and their components. Improving intelligibility requires that stakeholders comprehend how and \\nwhy they function so  that they can identify potential performance issues, safety and privacy concerns, biases, \\nexclusionary practices, or unintended outcomes. We also believe that those who use AI systems should be', metadata={'source': '..\\\\..\\\\..\\\\Data\\\\01-3.1.4.DL.Responsible AI - Establishing guiding principles unit 2019 09 17.pdf', 'page': 2, 'start_index': 0}),\n",
       " Document(page_content='honest and forthcoming about when, why, and how they choose t o deploy them.  \\n \\n       Accountability  \\nThe people who design and deploy AI systems must be accountable for how their systems operate. \\nOrganizations should draw upon industry standards to develop accountability norms. These norms can \\nensure that AI systems  are not the final authority on any decision that impacts people’s lives and that \\nhumans maintain meaningful control over otherwise highly autonomous AI systems.', metadata={'source': '..\\\\..\\\\..\\\\Data\\\\01-3.1.4.DL.Responsible AI - Establishing guiding principles unit 2019 09 17.pdf', 'page': 2, 'start_index': 441}),\n",
       " Document(page_content='Organizations should also consider establishing a dedicated internal review body. This body c an provide \\noversight and guidance to the highest levels of the company on which practices should be adopted to help \\naddress the concerns discussed above and on particularly important questions regarding the development \\nand deployment of AI systems. They ca n also help with tasks like defining best practices for documenting', metadata={'source': '..\\\\..\\\\..\\\\Data\\\\01-3.1.4.DL.Responsible AI - Establishing guiding principles unit 2019 09 17.pdf', 'page': 2, 'start_index': 930}),\n",
       " Document(page_content='and testing AI systems during development or providing guidance when an AI system will be used in \\nsensitive cases (like those that may deny people consequential services like healthcare or  employment, \\ncreate risk of physical or emotional harm, or infringe on human rights).  \\nWe recognize that every individual, company, and region will have their own beliefs and standards that \\nshould be reflected in their AI journey. We share our perspective with you as you consider developing your', metadata={'source': '..\\\\..\\\\..\\\\Data\\\\01-3.1.4.DL.Responsible AI - Establishing guiding principles unit 2019 09 17.pdf', 'page': 2, 'start_index': 1353}),\n",
       " Document(page_content='own guiding principles.  \\nIn the next unit  you’ll  hear from Matt Fowler, VP and Head of Machine Learning, Enter prise Data and \\nAnalytics at TD Bank Group, as he describes how his business is approaching responsible AI.', metadata={'source': '..\\\\..\\\\..\\\\Data\\\\01-3.1.4.DL.Responsible AI - Establishing guiding principles unit 2019 09 17.pdf', 'page': 2, 'start_index': 1844})]"
      ]
     },
     "execution_count": 86,
     "metadata": {},
     "output_type": "execute_result"
    }
   ],
   "source": [
    "from langchain.text_splitter import RecursiveCharacterTextSplitter\n",
    "\n",
    "text_splitter = RecursiveCharacterTextSplitter(chunk_size=500, \n",
    "                                               chunk_overlap=10,\n",
    "                                               length_function = len,\n",
    "                                               separators=['\\n\\n', '\\n', '.', ' ', ''],\n",
    "                                               add_start_index = True,\n",
    "                                               )\n",
    "\n",
    "text_chunks = text_splitter.split_documents(pages)\n",
    "\n",
    "text_chunks"
   ]
  },
  {
   "cell_type": "code",
   "execution_count": 87,
   "metadata": {},
   "outputs": [
    {
     "data": {
      "text/plain": [
       "['d799296e-2c3c-11ee-9e57-64d69a653a55',\n",
       " 'd799296f-2c3c-11ee-830f-64d69a653a55',\n",
       " 'd7992970-2c3c-11ee-8895-64d69a653a55',\n",
       " 'd7992971-2c3c-11ee-a2e5-64d69a653a55',\n",
       " 'd7992972-2c3c-11ee-b766-64d69a653a55',\n",
       " 'd7992973-2c3c-11ee-9096-64d69a653a55',\n",
       " 'd7992974-2c3c-11ee-8c7c-64d69a653a55',\n",
       " 'd7992975-2c3c-11ee-afeb-64d69a653a55',\n",
       " 'd7992976-2c3c-11ee-9b34-64d69a653a55',\n",
       " 'd7992977-2c3c-11ee-87a4-64d69a653a55',\n",
       " 'd7992978-2c3c-11ee-81f9-64d69a653a55',\n",
       " 'd7992979-2c3c-11ee-a328-64d69a653a55',\n",
       " 'd799297a-2c3c-11ee-a8c7-64d69a653a55',\n",
       " 'd799297b-2c3c-11ee-868c-64d69a653a55',\n",
       " 'd799297c-2c3c-11ee-9d61-64d69a653a55',\n",
       " 'd799297d-2c3c-11ee-b5bf-64d69a653a55',\n",
       " 'd799297e-2c3c-11ee-9a22-64d69a653a55',\n",
       " 'd799297f-2c3c-11ee-a4a1-64d69a653a55',\n",
       " 'd7992980-2c3c-11ee-b6c5-64d69a653a55',\n",
       " 'd7992981-2c3c-11ee-a3c7-64d69a653a55']"
      ]
     },
     "execution_count": 87,
     "metadata": {},
     "output_type": "execute_result"
    }
   ],
   "source": [
    "retriever.add_documents(text_chunks)"
   ]
  },
  {
   "cell_type": "code",
   "execution_count": 88,
   "metadata": {},
   "outputs": [],
   "source": [
    "# from langchain.vectorstores import Chroma\n",
    "# from langchain.embeddings import HuggingFaceEmbeddings\n",
    "\n",
    "# embeddings = HuggingFaceEmbeddings(\n",
    "#     model_name=\"sentence-transformers/all-mpnet-base-v2\",\n",
    "#     model_kwargs={'device': 'cuda'},\n",
    "#     encode_kwargs={'normalize_embeddings': False}\n",
    "# )\n",
    "\n",
    "# retriever = Chroma.from_documents(text_chunks, embeddings)"
   ]
  },
  {
   "cell_type": "code",
   "execution_count": 95,
   "metadata": {},
   "outputs": [],
   "source": [
    "from langchain.prompts import PromptTemplate\n",
    "\n",
    "prompt_template = \"\"\"Use the following pieces of context to answer the question at the end. \\\n",
    "If you don't know the answer, just say that you don't know, don't try to make up an answer.\\\n",
    "If answer contain a list, output as a bulleted or numbered list.\n",
    "{context}\n",
    "\n",
    "Question: {question}\n",
    "Answer:\"\"\"\n",
    "\n",
    "PROMPT = PromptTemplate(\n",
    "    template=prompt_template, input_variables=[\"context\", \"question\"]\n",
    ")\n",
    "\n",
    "chain_type_kwargs = {\"prompt\": PROMPT}\n",
    "\n",
    "qa = RetrievalQA.from_chain_type(llm=chat_llm, \n",
    "                                 chain_type=\"stuff\", \n",
    "                                 retriever=retriever.as_retriever(enable_limit=True,k=3), \n",
    "                                 chain_type_kwargs=chain_type_kwargs, \n",
    "                                 return_source_documents=True)\n",
    "\n",
    "\n"
   ]
  },
  {
   "cell_type": "code",
   "execution_count": 96,
   "metadata": {},
   "outputs": [
    {
     "data": {
      "text/plain": [
       "{'query': 'what are the Microsoft’s six guiding principles?',\n",
       " 'result': '1. Fairness\\n2. Reliability and safety\\n3. Privacy and security\\n4. Inclusiveness\\n5. Transparency\\n6. Accountability',\n",
       " 'source_documents': [Document(page_content='own.  \\nAt Microsoft, we’ve recognized six principles that we believe should guide AI development and use: fairness, \\nreliability and safety, privacy and security, inclusiveness, transparency, and accountability. For us, these \\nprinciples are the cornerstone of a responsible and trustworthy approach to AI, especially as intelligent \\ntechnology  becomes more prevalent in the products and services we use every day.  \\nMicros oft’s six guiding  principles   \\n    Fairness', metadata={'source': '..\\\\..\\\\..\\\\Data\\\\01-3.1.4.DL.Responsible AI - Establishing guiding principles unit 2019 09 17.pdf', 'page': 0, 'start_index': 440}),\n",
       "  Document(page_content='In the next two units, we have outlined some of the steps Microsoft and TD Bank are taking to prioritize \\nresponsible AI in hopes that our experience can help as you c onsider these questions for your own \\norganization. The next unit  will outline six guiding principles we developed to guide our development and \\nuse of AI.', metadata={'source': '..\\\\..\\\\..\\\\Data\\\\01-3.1.3.DL.Implications of responsible AI - Practical guide unit 2019 09 17.pdf', 'page': 2, 'start_index': 439}),\n",
       "  Document(page_content='Applying these ideas in your organization  \\nThe following three questio ns can help you start to consider the ways your organization can develop and \\ndeploy AI in a responsible manner.  \\n1. How can you use a human -led approach to drive value for your business?  \\n2. How will your organization’s foundational values affect your approach t o AI?  \\n3. How will you monitor AI systems to ensure they are evolving responsibly?  \\n \\nComing up', metadata={'source': '..\\\\..\\\\..\\\\Data\\\\01-3.1.3.DL.Implications of responsible AI - Practical guide unit 2019 09 17.pdf', 'page': 2, 'start_index': 0}),\n",
       "  Document(page_content='circumstances and in unexpected conditions. These systems should be able to operate as they were \\noriginally designed, respond safely to unanticipated conditions, and resist harmful manipulation. It’s also \\nimportant to be able to verify that these systems are behaving as intended under actual operating \\nconditions. How they behave and the variety of conditions they can handle reliably and safely largely reflects', metadata={'source': '..\\\\..\\\\..\\\\Data\\\\01-3.1.4.DL.Responsible AI - Establishing guiding principles unit 2019 09 17.pdf', 'page': 0, 'start_index': 2236})]}"
      ]
     },
     "execution_count": 96,
     "metadata": {},
     "output_type": "execute_result"
    }
   ],
   "source": [
    "query = \"what are the Microsoft’s six guiding principles?\"\n",
    "result = qa({\"query\": query})\n",
    "result"
   ]
  },
  {
   "cell_type": "code",
   "execution_count": 97,
   "metadata": {},
   "outputs": [
    {
     "name": "stdout",
     "output_type": "stream",
     "text": [
      "1. Fairness\n",
      "2. Reliability and safety\n",
      "3. Privacy and security\n",
      "4. Inclusiveness\n",
      "5. Transparency\n",
      "6. Accountability\n"
     ]
    }
   ],
   "source": [
    "print(result['result'])"
   ]
  },
  {
   "cell_type": "code",
   "execution_count": 98,
   "metadata": {},
   "outputs": [
    {
     "data": {
      "text/plain": [
       "{'query': 'why we need responsible approach to AI?',\n",
       " 'result': 'To mitigate the risk of negative consequences when AI is used improperly or irresponsibly.',\n",
       " 'source_documents': [Document(page_content='Applying these ideas in your organization  \\nThe following three questio ns can help you start to consider the ways your organization can develop and \\ndeploy AI in a responsible manner.  \\n1. How can you use a human -led approach to drive value for your business?  \\n2. How will your organization’s foundational values affect your approach t o AI?  \\n3. How will you monitor AI systems to ensure they are evolving responsibly?  \\n \\nComing up', metadata={'source': '..\\\\..\\\\..\\\\Data\\\\01-3.1.3.DL.Implications of responsible AI - Practical guide unit 2019 09 17.pdf', 'page': 2, 'start_index': 0}),\n",
       "  Document(page_content='Abstract  \\nAI has transformed from vision to reality, creating tangible benefits for people and enterprises around the \\nworld. But like any technology, it poses the risk of negative consequences when used improperly or \\nirresponsibly. We want to share what we’re learni ng in our own journey in hopes that it can provide a useful \\nperspective for other organizations navigating similar challenges.  \\nLearn about Microsoft’s perspective on the importance of engaging with AI in a responsible manner .', metadata={'source': '..\\\\..\\\\..\\\\Data\\\\01-3.1.3.DL.Implications of responsible AI - Practical guide unit 2019 09 17.pdf', 'page': 0, 'start_index': 0}),\n",
       "  Document(page_content='Abstract  \\nIn the last unit, we discussed the societal implications of AI and the responsibility of businesses, \\ngovernments, NGOs, and academic researchers to anticipate and mitigate unintended consequences of AI \\ntechnology. In light of this responsibility, organizat ions are finding the need to create internal policies and \\npractices to guide their AI efforts, whether they are deploying third -party AI solutions or developing their \\nown.', metadata={'source': '..\\\\..\\\\..\\\\Data\\\\01-3.1.4.DL.Responsible AI - Establishing guiding principles unit 2019 09 17.pdf', 'page': 0, 'start_index': 0}),\n",
       "  Document(page_content='honest and forthcoming about when, why, and how they choose t o deploy them.  \\n \\n       Accountability  \\nThe people who design and deploy AI systems must be accountable for how their systems operate. \\nOrganizations should draw upon industry standards to develop accountability norms. These norms can \\nensure that AI systems  are not the final authority on any decision that impacts people’s lives and that \\nhumans maintain meaningful control over otherwise highly autonomous AI systems.', metadata={'source': '..\\\\..\\\\..\\\\Data\\\\01-3.1.4.DL.Responsible AI - Establishing guiding principles unit 2019 09 17.pdf', 'page': 2, 'start_index': 441})]}"
      ]
     },
     "execution_count": 98,
     "metadata": {},
     "output_type": "execute_result"
    }
   ],
   "source": [
    "query = \"why we need responsible approach to AI?\"\n",
    "result = qa({\"query\": query})\n",
    "result"
   ]
  },
  {
   "cell_type": "code",
   "execution_count": 99,
   "metadata": {},
   "outputs": [
    {
     "name": "stdout",
     "output_type": "stream",
     "text": [
      "To mitigate the risk of negative consequences when AI is used improperly or irresponsibly.\n"
     ]
    }
   ],
   "source": [
    "print(result['result'])"
   ]
  },
  {
   "cell_type": "markdown",
   "metadata": {},
   "source": [
    "<hr/>\n",
    "Last update 2023-07-24 by Sumudu Tennakoon\n",
    "\n",
    "<a rel=\"license\" href=\"http://creativecommons.org/licenses/by-nc-sa/4.0/\"><img alt=\"Creative Commons License\" style=\"border-width:0\" src=\"https://i.creativecommons.org/l/by-nc-sa/4.0/88x31.png\" /></a><br />This work is licensed under a <a rel=\"license\" href=\"http://creativecommons.org/licenses/by-nc-sa/4.0/\">Creative Commons Attribution-NonCommercial-ShareAlike 4.0 International License</a>."
   ]
  }
 ],
 "metadata": {
  "kernelspec": {
   "display_name": ".venv",
   "language": "python",
   "name": "python3"
  },
  "language_info": {
   "codemirror_mode": {
    "name": "ipython",
    "version": 3
   },
   "file_extension": ".py",
   "mimetype": "text/x-python",
   "name": "python",
   "nbconvert_exporter": "python",
   "pygments_lexer": "ipython3",
   "version": "3.10.11"
  },
  "orig_nbformat": 4
 },
 "nbformat": 4,
 "nbformat_minor": 2
}
