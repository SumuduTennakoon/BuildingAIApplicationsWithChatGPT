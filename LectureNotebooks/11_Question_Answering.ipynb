{
 "cells": [
  {
   "cell_type": "markdown",
   "metadata": {},
   "source": [
    "# Building AI Applications with ChatGPT\n",
    "\n",
    "Sumudu Tennakoon, PhD\n",
    "<hr>\n",
    "\n",
    "# Question Answering Tasks\n",
    "\n",
    "In this notebook we will explore some basic fetures on Python programing language for those who have a prior programing expereince.\n",
    "\n",
    "To learn more about Python, refeer to the following websites\n",
    "\n",
    "- Python : https://www.python.org\n",
    "\n",
    "To learn more about the Python packages we explore in this notebook, refer to the following websites\n",
    "\n",
    "- OpenAI API : https://platform.openai.com/docs/api-reference\n"
   ]
  },
  {
   "cell_type": "code",
   "execution_count": 1,
   "metadata": {},
   "outputs": [],
   "source": [
    "import openai\n",
    "import configparser\n",
    "config = configparser.ConfigParser()\n",
    "config.read(r'../../../config.ini') #Change to your path or assign API Key to openai_api_key (not recomended for production)\n",
    "\n",
    "openai_api_key = config['SECRETS']['openai_api_key']"
   ]
  },
  {
   "cell_type": "code",
   "execution_count": 6,
   "metadata": {},
   "outputs": [
    {
     "name": "stdout",
     "output_type": "stream",
     "text": [
      "chat_response: Sorry I could not find the answer!\n",
      "\n",
      "usage:{'prompt_tokens': 44, 'completion_tokens': 8, 'total_tokens': 52}\n"
     ]
    }
   ],
   "source": [
    "import os\n",
    "import openai\n",
    "\n",
    "openai.api_key = openai_api_key\n",
    "MODEL = \"text-davinci-003\"\n",
    "\n",
    "INSTRUCTION = r\"\"\"Answer question based on the context given blow. \n",
    "If the question is nonsence or no clear answer is found, respond 'Sorry I could not find the answer!'\n",
    "\"\"\"\n",
    "\n",
    "text = \"Who won the Super Bowl 2022 ?\"\n",
    "\n",
    "prompt = F\"{INSTRUCTION}\\n\\n{text}\\n\\n\"\n",
    "\n",
    "response = openai.Completion.create(\n",
    "    model=MODEL,\n",
    "    prompt=prompt,\n",
    "    temperature=0,\n",
    "    max_tokens=100,\n",
    "    top_p=1,\n",
    "    frequency_penalty=0.0,\n",
    "    presence_penalty=0.0,\n",
    "    stop=[\"\\n\"]\n",
    ")\n",
    "\n",
    "chat_response = response['choices'][0]['text']\n",
    "usage = response['usage'].to_dict()\n",
    "\n",
    "print(F\"chat_response: {chat_response}\\n\\nusage:{usage}\")"
   ]
  },
  {
   "cell_type": "code",
   "execution_count": 8,
   "metadata": {},
   "outputs": [
    {
     "name": "stdout",
     "output_type": "stream",
     "text": [
      "chat_response: Los Angeles Rams won the Super Bowl 2022.\n",
      "\n",
      "usage:{'prompt_tokens': 165, 'completion_tokens': 9, 'total_tokens': 174}\n"
     ]
    }
   ],
   "source": [
    "import os\n",
    "import openai\n",
    "\n",
    "openai.api_key = openai_api_key\n",
    "MODEL = \"text-davinci-003\"\n",
    "\n",
    "INSTRUCTION = r\"\"\"Answer question based on the context given blow. \n",
    "If the question is nonsence or no clear answer is found, respond 'Sorry I could not find the answer!'\n",
    "\"\"\"\n",
    "\n",
    "context = r\"\"\"Super Bowl LVI was an American football game played to determine the champion of \\\n",
    "the National Football League (NFL) for the 2021 season. The National Football Conference (NFC) \\\n",
    "champion Los Angeles Rams defeated the American Football Conference (AFC) champion Cincinnati \\\n",
    "Bengals, 23–20. The game was played on February 13, 2022, at SoFi Stadium in Inglewood, California, \\\n",
    "the home stadium of the Rams, marking the second consecutive and second overall Super Bowl with a \\\n",
    "team playing and winning in its home stadium.\n",
    "\"\"\"\n",
    "\n",
    "text = \"Who won the Super Bowl 2022 ?\"\n",
    "\n",
    "prompt = F\"{INSTRUCTION}\\n\\nContext:{context}\\n\\n{text}\\n\\n\"\n",
    "\n",
    "response = openai.Completion.create(\n",
    "    model=MODEL,\n",
    "    prompt=prompt,\n",
    "    temperature=0,\n",
    "    max_tokens=100,\n",
    "    top_p=1,\n",
    "    frequency_penalty=0.0,\n",
    "    presence_penalty=0.0,\n",
    "    stop=[\"\\n\"]\n",
    ")\n",
    "\n",
    "chat_response = response['choices'][0]['text']\n",
    "usage = response['usage'].to_dict()\n",
    "\n",
    "print(F\"chat_response: {chat_response}\\n\\nusage:{usage}\")"
   ]
  },
  {
   "cell_type": "markdown",
   "metadata": {},
   "source": [
    "<hr/>\n",
    "Last update 2023-07-09 by Sumudu Tennakoon\n",
    "\n",
    "<a rel=\"license\" href=\"http://creativecommons.org/licenses/by-nc-sa/4.0/\"><img alt=\"Creative Commons License\" style=\"border-width:0\" src=\"https://i.creativecommons.org/l/by-nc-sa/4.0/88x31.png\" /></a><br />This work is licensed under a <a rel=\"license\" href=\"http://creativecommons.org/licenses/by-nc-sa/4.0/\">Creative Commons Attribution-NonCommercial-ShareAlike 4.0 International License</a>."
   ]
  },
  {
   "cell_type": "markdown",
   "metadata": {},
   "source": []
  }
 ],
 "metadata": {
  "kernelspec": {
   "display_name": ".venv",
   "language": "python",
   "name": "python3"
  },
  "language_info": {
   "codemirror_mode": {
    "name": "ipython",
    "version": 3
   },
   "file_extension": ".py",
   "mimetype": "text/x-python",
   "name": "python",
   "nbconvert_exporter": "python",
   "pygments_lexer": "ipython3",
   "version": "3.10.11"
  },
  "orig_nbformat": 4
 },
 "nbformat": 4,
 "nbformat_minor": 2
}
